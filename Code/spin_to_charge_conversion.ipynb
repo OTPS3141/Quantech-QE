{
 "cells": [
  {
   "cell_type": "code",
   "execution_count": 8,
   "metadata": {},
   "outputs": [],
   "source": [
    "from qiskit import QuantumCircuit, Aer, transpile, assemble, execute\n",
    "from qiskit.visualization import plot_histogram\n",
    "from qiskit.quantum_info import Statevector\n",
    "\n",
    "\n"
   ]
  },
  {
   "cell_type": "code",
   "execution_count": 45,
   "metadata": {},
   "outputs": [],
   "source": [
    "def swap_gate(qc, qubit0, qubit1):\n",
    "    \n",
    "    qc.cx(qubit0, qubit1)\n",
    "    qc.ch(qubit0, qubit1)\n",
    "    qc.x(qubit0)\n",
    "    qc.ch(qubit0, qubit1)\n",
    "    qc.x(qubit0)\n",
    "    qc.h(qubit0)\n",
    "    qc.cx(qubit0, qubit1)\n",
    "    qc.ch(qubit0, qubit1)\n",
    "    qc.x(qubit0)\n",
    "    qc.ch(qubit0, qubit1)\n",
    "    qc.x(qubit0)\n",
    "    qc.h(qubit0)\n",
    "    qc.cx(qubit0, qubit1)\n"
   ]
  },
  {
   "cell_type": "code",
   "execution_count": 46,
   "metadata": {},
   "outputs": [
    {
     "data": {
      "text/latex": [
       "$$\\frac{\\sqrt{2}}{2} |00\\rangle+\\frac{\\sqrt{2}}{2} |10\\rangle$$"
      ],
      "text/plain": [
       "<IPython.core.display.Latex object>"
      ]
     },
     "execution_count": 46,
     "metadata": {},
     "output_type": "execute_result"
    }
   ],
   "source": [
    "# Create a quantum circuit with two qubits\n",
    "qc = QuantumCircuit(2)\n",
    "qc.h(1)\n",
    "\n",
    "initital_state = Statevector(qc)\n",
    "\n",
    "# Apply the SWAP gate to qubits 0 and 1\n",
    "swap_gate(qc, 0, 1)\n",
    "\n",
    "# Visualize the circuit\n",
    "initital_state.draw('latex')\n"
   ]
  },
  {
   "cell_type": "code",
   "execution_count": 47,
   "metadata": {},
   "outputs": [
    {
     "data": {
      "image/png": "[encoded data removed]",
      "text/plain": [
       "<Figure size 1290.63x200.667 with 1 Axes>"
      ]
     },
     "execution_count": 47,
     "metadata": {},
     "output_type": "execute_result"
    }
   ],
   "source": [
    "qc.draw(output='mpl')\n"
   ]
  },
  {
   "cell_type": "code",
   "execution_count": 44,
   "metadata": {},
   "outputs": [
    {
     "data": {
      "text/latex": [
       "$$\\frac{\\sqrt{2}}{2} |00\\rangle+\\frac{\\sqrt{2}}{2} |01\\rangle$$"
      ],
      "text/plain": [
       "<IPython.core.display.Latex object>"
      ]
     },
     "execution_count": 44,
     "metadata": {},
     "output_type": "execute_result"
    }
   ],
   "source": [
    "final_state = Statevector(qc)\n",
    "final_state.draw('latex')"
   ]
  }
 ],
 "metadata": {
  "kernelspec": {
   "display_name": "Python 3",
   "language": "python",
   "name": "python3"
  },
  "language_info": {
   "codemirror_mode": {
    "name": "ipython",
    "version": 3
   },
   "file_extension": ".py",
   "mimetype": "text/x-python",
   "name": "python",
   "nbconvert_exporter": "python",
   "pygments_lexer": "ipython3",
   "version": "3.11.5"
  }
 },
 "nbformat": 4,
 "nbformat_minor": 2
}
