{
 "cells": [
  {
   "cell_type": "code",
   "execution_count": 1,
   "metadata": {},
   "outputs": [],
   "source": [
    "    \n",
    "from qiskit import QuantumCircuit, QuantumRegister\n",
    "from qiskit.quantum_info import Pauli\n",
    "from qiskit.circuit import Parameter\n",
    "from qiskit.quantum_info import Statevector, Operator\n",
    "from qiskit.visualization import array_to_latex\n",
    "from qiskit import Aer, execute\n",
    "from qiskit.quantum_info import SparsePauliOp\n",
    "from qiskit.circuit.library import PauliEvolutionGate\n",
    "from tqdm.notebook import tqdm\n",
    "from matplotlib import pyplot as plt\n",
    "\n",
    "from qiskit_nature.second_q.operators import FermionicOp\n",
    "from qiskit_nature.second_q.mappers import JordanWignerMapper\n",
    "from qiskit_nature.settings import QiskitNatureSettings\n",
    "\n",
    "from qiskit_algorithms import TrotterQRTE\n",
    "from qiskit_algorithms import TimeEvolutionProblem\n",
    "\n",
    "\n",
    "QiskitNatureSettings.use_pauli_sum_op = False\n",
    "\n",
    "import numpy as np"
   ]
  },
  {
   "cell_type": "code",
   "execution_count": 2,
   "metadata": {},
   "outputs": [],
   "source": [
    "# Setup\n",
    "\n",
    "M = 2  #Number of Localizations\n",
    "N = 2*M #total number of operators (Two positions times two spin polarizations)\n",
    "\n",
    "zero = Operator(np.zeros((2**N,2**N)))\n"
   ]
  },
  {
   "cell_type": "code",
   "execution_count": 3,
   "metadata": {},
   "outputs": [],
   "source": [
    "Tu = Statevector.from_int(1, 2**N)\n",
    "Td = Statevector.from_int(2, 2**N)\n",
    "Bu = Statevector.from_int(4, 2**N)\n",
    "Bd = Statevector.from_int(8, 2**N)\n",
    "vac = Statevector.from_int(0, 2**N)"
   ]
  },
  {
   "cell_type": "code",
   "execution_count": 4,
   "metadata": {},
   "outputs": [],
   "source": [
    "# Define the Fermionic Operators\n",
    "op_list = [\n",
    "    # ({second_q-operator: coefficient}, num_qubits)\n",
    "    ({\"+_0 -_1\": 1.0}, 4),  # a^dagger_0 a_1\n",
    "    ({\"+_1 -_0\": 1.0}, 4),  # a^dagger_1 a_0\n",
    "    ({\"+_2 -_3\": 1.0}, 4),  \n",
    "    ({\"+_3 -_2\": 1.0}, 4),  \n",
    "    ({\"+_0 -_0\": 1.0}, 4),  \n",
    "    ({\"+_1 -_1\": 1.0}, 4),  \n",
    "    ({\"+_2 -_2\": 1.0}, 4),  \n",
    "    ({\"+_3 -_3\": 1.0}, 4),  \n",
    "    ({\"+_0 -_2\": 1.0}, 4),  \n",
    "    ({\"+_1 -_3\": 1.0}, 4),  \n",
    "    ({\"+_2 -_0\": 1.0}, 4),  \n",
    "    ({\"+_3 -_1\": 1.0}, 4),  \n",
    "    \n",
    "]\n"
   ]
  },
  {
   "cell_type": "code",
   "execution_count": 5,
   "metadata": {},
   "outputs": [],
   "source": [
    "# Define spin operators\n",
    "# Notice that spin operators are defined for top and bottom layer\n",
    "sig_x = [zero, zero]\n",
    "sig_x[0] = JordanWignerMapper().map(FermionicOp(op_list[1][0], num_spin_orbitals=N)) + JordanWignerMapper().map(FermionicOp(op_list[0][0], num_spin_orbitals=N))\n",
    "sig_x[1] = JordanWignerMapper().map(FermionicOp(op_list[3][0], num_spin_orbitals=N)) + JordanWignerMapper().map(FermionicOp(op_list[2][0], num_spin_orbitals=N))\n",
    "\n",
    "sig_y = [zero, zero]\n",
    "sig_y[0] = 1j*JordanWignerMapper().map(FermionicOp(op_list[1][0], num_spin_orbitals=N)) - 1j*JordanWignerMapper().map(FermionicOp(op_list[0][0], num_spin_orbitals=N))\n",
    "sig_y[1] = 1j*JordanWignerMapper().map(FermionicOp(op_list[3][0], num_spin_orbitals=N)) - 1j*JordanWignerMapper().map(FermionicOp(op_list[2][0], num_spin_orbitals=N))\n",
    "\n",
    "sig_z = [zero, zero]\n",
    "sig_z[0] = JordanWignerMapper().map(FermionicOp(op_list[4][0], num_spin_orbitals=N)) - JordanWignerMapper().map(FermionicOp(op_list[5][0], num_spin_orbitals=N))\n",
    "sig_z[1] = JordanWignerMapper().map(FermionicOp(op_list[6][0], num_spin_orbitals=N)) - JordanWignerMapper().map(FermionicOp(op_list[7][0], num_spin_orbitals=N))\n",
    "\n",
    "\n",
    "# Define position operators\n",
    "# Notice\n",
    "\n",
    "pos_x = [zero, zero]\n",
    "pos_x[0] = JordanWignerMapper().map(FermionicOp(op_list[8][0], num_spin_orbitals=N)) + JordanWignerMapper().map(FermionicOp(op_list[10][0], num_spin_orbitals=N))\n",
    "pos_x[1] = JordanWignerMapper().map(FermionicOp(op_list[11][0], num_spin_orbitals=N)) + JordanWignerMapper().map(FermionicOp(op_list[9][0], num_spin_orbitals=N))\n",
    "\n",
    "pos_y = [zero, zero]\n",
    "pos_y[0] = 1j*JordanWignerMapper().map(FermionicOp(op_list[8][0], num_spin_orbitals=N)) - 1j*JordanWignerMapper().map(FermionicOp(op_list[10][0], num_spin_orbitals=N))\n",
    "pos_y[1] = 1j*JordanWignerMapper().map(FermionicOp(op_list[11][0], num_spin_orbitals=N)) - 1j*JordanWignerMapper().map(FermionicOp(op_list[9][0], num_spin_orbitals=N))\n",
    "\n",
    "\n",
    "pos_z = [zero, zero]\n",
    "pos_z[0] = JordanWignerMapper().map(FermionicOp(op_list[4][0], num_spin_orbitals=N)) - JordanWignerMapper().map(FermionicOp(op_list[6][0], num_spin_orbitals=N))\n",
    "pos_z[1] = JordanWignerMapper().map(FermionicOp(op_list[5][0], num_spin_orbitals=N)) - JordanWignerMapper().map(FermionicOp(op_list[7][0], num_spin_orbitals=N))\n",
    "\n"
   ]
  },
  {
   "cell_type": "code",
   "execution_count": 6,
   "metadata": {},
   "outputs": [],
   "source": [
    "# Define additional Hamiltonian terms\n",
    "\n",
    "#total spin operators\n",
    "Sx,Sy,Sz=0,0,0\n",
    "for i in range(M):\n",
    "    Sx += sig_x[i]\n",
    "    Sy += sig_y[i]\n",
    "    Sz += sig_z[i]\n",
    "\n",
    "\n",
    "Sx = Sx.simplify()\n",
    "Sy = Sy.simplify()\n",
    "Sz = Sz.simplify()\n",
    "\n",
    "    \n",
    "#total location pauli operators\n",
    "Lx,Ly,Lz=0,0,0\n",
    "for i in range(2):\n",
    "    Lx += pos_x[i]\n",
    "    Ly += pos_y[i]\n",
    "    Lz += pos_z[i]\n",
    "\n",
    "Lx = Lx.simplify()\n",
    "Ly = Ly.simplify()\n",
    "Lz = Lz.simplify()\n",
    "\n",
    "\n"
   ]
  },
  {
   "cell_type": "code",
   "execution_count": 7,
   "metadata": {},
   "outputs": [],
   "source": [
    "# Hamiltonian terms\n",
    "\n",
    "def H_chargesplit(E):\n",
    "    return E*Lz\n",
    "\n",
    "def H_spinsplit(E):\n",
    "    return E*Sz\n",
    "    \n",
    "def H_EDSR(alpha,w,t, phi=0):\n",
    "    # return lambda t: (alpha[0]*sig_x[0]+alpha[1]*sig_x[1])/2*np.cos(w*t+phi) #+detune*Sz\n",
    "    # return lambda t: (alpha[0]*(sig_x[0]).simplify+alpha[1]*(sig_x[1]).simplify())/2*np.cos(w*t+phi)  # included h.c. to make it hermitian\n",
    "    return (alpha[0]*sig_x[0].simplify()+alpha[1]*sig_x[1].simplify())/2*np.cos(w*t+phi)\n",
    "\n",
    "def H_EDSR_no_time(alpha):\n",
    "    return (alpha[0]*sig_x[0].simplify()+alpha[1]*sig_x[1].simplify())/2\n",
    "    \n",
    "def H_LZSI(eps,w, t, phi=0):\n",
    "    return eps/2*Lx#*np.cos(w*t+phi) #+detune*Lz\n"
   ]
  },
  {
   "cell_type": "code",
   "execution_count": 10,
   "metadata": {},
   "outputs": [],
   "source": [
    "# Implement colour map\n",
    "\n",
    "E_charge_list = np.linspace(-18,18, 10)\n",
    "waiting_time_list = np.linspace(25, 100, 10)\n",
    "\n",
    "# Sequence consists of 3 blocks\n",
    "# 1. Charge splitting\n",
    "# 2. Waiting time and Bloch rotation\n",
    "# 3. Charge splitting\n",
    "\n",
    "E_charge= -400\n",
    "E_spin  = 1\n",
    "E_charge_drive= 0\n",
    "\n",
    "w_charge = E_charge*2\n",
    "w_spin   = E_spin*2\n",
    "\n",
    "hbar = 6.582119569e2 #ueV*ps\n",
    "alpha= (.1,0)\n",
    "alph = .1\n",
    "eps  = 11\n",
    "\n",
    "drivetime= 57/hbar \n",
    "\n"
   ]
  },
  {
   "cell_type": "code",
   "execution_count": 14,
   "metadata": {},
   "outputs": [
    {
     "name": "stdout",
     "output_type": "stream",
     "text": [
      "Running block 1...\n"
     ]
    },
    {
     "data": {
      "application/vnd.jupyter.widget-view+json": {
       "model_id": "cb63d1d4a5284e62a7a545e57fa81f4c",
       "version_major": 2,
       "version_minor": 0
      },
      "text/plain": [
       "  0%|          | 0/49 [00:00<?, ?it/s]"
      ]
     },
     "metadata": {},
     "output_type": "display_data"
    },
    {
     "name": "stdout",
     "output_type": "stream",
     "text": [
      "Running block 2...\n"
     ]
    },
    {
     "data": {
      "application/vnd.jupyter.widget-view+json": {
       "model_id": "e293ce0d2e4e4f38ab4e5ccb6eebb314",
       "version_major": 2,
       "version_minor": 0
      },
      "text/plain": [
       "  0%|          | 0/49 [00:00<?, ?it/s]"
      ]
     },
     "metadata": {},
     "output_type": "display_data"
    },
    {
     "name": "stdout",
     "output_type": "stream",
     "text": [
      "Running block 3...\n"
     ]
    },
    {
     "data": {
      "application/vnd.jupyter.widget-view+json": {
       "model_id": "bc4254d512ed48ecb9534316c39eeab0",
       "version_major": 2,
       "version_minor": 0
      },
      "text/plain": [
       "  0%|          | 0/49 [00:00<?, ?it/s]"
      ]
     },
     "metadata": {},
     "output_type": "display_data"
    },
    {
     "ename": "TypeError",
     "evalue": "list indices must be integers or slices, not numpy.str_",
     "output_type": "error",
     "traceback": [
      "\u001b[0;31m---------------------------------------------------------------------------\u001b[0m",
      "\u001b[0;31mTypeError\u001b[0m                                 Traceback (most recent call last)",
      "\u001b[1;32mUntitled-1.ipynb Cell 9\u001b[0m line \u001b[0;36m1\n\u001b[1;32m    <a href='vscode-notebook-cell:Untitled-1.ipynb?jupyter-notebook#X11sdW50aXRsZWQ%3D?line=112'>113</a>\u001b[0m \u001b[39mfor\u001b[39;00m key \u001b[39min\u001b[39;00m states\u001b[39m.\u001b[39mprobabilities_dict()\u001b[39m.\u001b[39mkeys():\n\u001b[1;32m    <a href='vscode-notebook-cell:Untitled-1.ipynb?jupyter-notebook#X11sdW50aXRsZWQ%3D?line=113'>114</a>\u001b[0m     \u001b[39mif\u001b[39;00m states\u001b[39m.\u001b[39mprobabilities_dict()[key] \u001b[39m<\u001b[39m \u001b[39m1e-15\u001b[39m:\n\u001b[0;32m--> <a href='vscode-notebook-cell:Untitled-1.ipynb?jupyter-notebook#X11sdW50aXRsZWQ%3D?line=114'>115</a>\u001b[0m         states_block3[key]\u001b[39m.\u001b[39mappend(\u001b[39m0\u001b[39m)\n\u001b[1;32m    <a href='vscode-notebook-cell:Untitled-1.ipynb?jupyter-notebook#X11sdW50aXRsZWQ%3D?line=115'>116</a>\u001b[0m     \u001b[39melse\u001b[39;00m:\n\u001b[1;32m    <a href='vscode-notebook-cell:Untitled-1.ipynb?jupyter-notebook#X11sdW50aXRsZWQ%3D?line=116'>117</a>\u001b[0m         states_block3[key]\u001b[39m.\u001b[39mappend(states\u001b[39m.\u001b[39mprobabilities_dict()[key])\n",
      "\u001b[0;31mTypeError\u001b[0m: list indices must be integers or slices, not numpy.str_"
     ]
    }
   ],
   "source": [
    "################################ Block 1\n",
    "\n",
    "initial_state = Tu\n",
    "\n",
    "num_steps_block1 = 50\n",
    "T_block1_list = np.linspace(0, drivetime, num_steps_block1)\n",
    "delta_t_block1 = T_block1_list[1] - T_block1_list[0]\n",
    "\n",
    "# Prepate H_0 \n",
    "H_0_list = []\n",
    "for t in T_block1_list:\n",
    "    H_0_list.append(H_spinsplit(E_spin) + H_chargesplit(E_charge + (E_charge_drive-E_charge)*t/drivetime))\n",
    "\n",
    "# Store states after every time step\n",
    "\n",
    "states_block1 = []\n",
    "states_block1.append(initial_state)\n",
    "\n",
    "print('Running block 1...')\n",
    "\n",
    "for i in tqdm(range(num_steps_block1-1)):\n",
    "    problem = TimeEvolutionProblem(H_0_list[i] + H_LZSI(eps, w_spin, 0), initial_state=states_block1[-1], time=delta_t_block1)\n",
    "    trotter = TrotterQRTE(num_timesteps=1)\n",
    "    result = trotter.evolve(problem)    \n",
    "    states_block1.append(Statevector(result.evolved_state))\n",
    "\n",
    "\n",
    "\n",
    "prob_dict_block1 = {'0001':[], '0010':[], '0100':[], '1000':[]}\n",
    "\n",
    "for states in states_block1:\n",
    "    if len(states.probabilities_dict())==1:\n",
    "        prob_dict_block1['0001'].append(1)\n",
    "        prob_dict_block1['0010'].append(0)\n",
    "        prob_dict_block1['0100'].append(0)\n",
    "        prob_dict_block1['1000'].append(0)\n",
    "    else:\n",
    "        for key in prob_dict_block1.keys():\n",
    "            prob_dict_block1[key].append(states.probabilities_dict()[key])\n",
    "\n",
    "\n",
    "################################## Block 2\n",
    "\n",
    "initial_state = states_block1[-1]\n",
    "\n",
    "num_steps_block2 = 50\n",
    "T_block2_list = np.linspace(0, 1, num_steps_block2)\n",
    "delta_t_block2 = T_block2_list[1] - T_block2_list[0]\n",
    "\n",
    "# Store states after every time step\n",
    "\n",
    "states_block2 = []\n",
    "states_block2.append(states_block1[-1])\n",
    "\n",
    "\n",
    "print('Running block 2...')\n",
    "for i in tqdm(range(num_steps_block2-1)):\n",
    "    problem = TimeEvolutionProblem(H_spinsplit(E_spin) + H_chargesplit(E_charge_drive) + H_LZSI(eps, w_spin, 0), initial_state=states_block2[-1], time=delta_t_block2)\n",
    "    trotter = TrotterQRTE(num_timesteps=1)\n",
    "    result = trotter.evolve(problem)    \n",
    "    states_block2.append(Statevector(result.evolved_state))\n",
    "\n",
    "\n",
    "prob_dict_block2 = {'0000': [], '0001': [], '0010': [], '0011': [], \n",
    "                    '0100': [], '0101': [], '0110': [], '0111': [], \n",
    "                    '1000': [], '1001': [], '1010': [], '1011': [], \n",
    "                    '1100': [], '1101': [], '1110': [], '1111': []}\n",
    "\n",
    "for states in states_block2:\n",
    "    for key in states.probabilities_dict().keys():\n",
    "        if states.probabilities_dict()[key] < 1e-15:\n",
    "            prob_dict_block2[key].append(0)\n",
    "        else:\n",
    "            prob_dict_block2[key].append(states.probabilities_dict()[key])\n",
    "    for key in prob_dict_block2.keys():\n",
    "        if key not in states.probabilities_dict().keys():\n",
    "            prob_dict_block2[key].append(0)\n",
    "\n",
    "\n",
    "\n",
    "################################## Block 3\n",
    "\n",
    "initial_state = states_block2[-1]\n",
    "\n",
    "num_steps_block3 = 50\n",
    "T_block3_list = np.linspace(0, drivetime, num_steps_block3)\n",
    "delta_t_block3 = T_block3_list[1] - T_block3_list[0]\n",
    "\n",
    "# Prepare H_0\n",
    "H_0_list = []\n",
    "for t in T_block3_list:\n",
    "    H_0_list.append(H_spinsplit(E_spin) + H_chargesplit(E_charge_drive + (E_charge-E_charge_drive)*t/drivetime))\n",
    "\n",
    "# Store states after every time step\n",
    "\n",
    "states_block3 = []\n",
    "states_block3.append(states_block2[-1])\n",
    "\n",
    "print('Running block 3...')\n",
    "for i in tqdm(range(num_steps_block3-1)):\n",
    "    problem = TimeEvolutionProblem(H_0_list[i] + H_LZSI(eps, w_spin, 0), initial_state=states_block3[-1], time=delta_t_block3)\n",
    "    trotter = TrotterQRTE(num_timesteps=1)\n",
    "    result = trotter.evolve(problem)    \n",
    "    states_block3.append(Statevector(result.evolved_state))\n",
    "\n",
    "\n",
    "prob_dict_block3 = {'0000': [], '0001': [], '0010': [], '0011': [], \n",
    "                    '0100': [], '0101': [], '0110': [], '0111': [], \n",
    "                    '1000': [], '1001': [], '1010': [], '1011': [], \n",
    "                    '1100': [], '1101': [], '1110': [], '1111': []}\n",
    "\n",
    "for states in states_block3:\n",
    "    for key in states.probabilities_dict().keys():\n",
    "        if states.probabilities_dict()[key] < 1e-15:\n",
    "            states_block3[key].append(0)\n",
    "        else:\n",
    "            states_block3[key].append(states.probabilities_dict()[key])\n",
    "    for key in prob_dict_block2.keys():\n",
    "        if key not in states.probabilities_dict().keys():\n",
    "            states_block3[key].append(0)\n",
    "\n",
    "\n",
    "# Plot the probabilities of the states in the computational basis vs time\n",
    "plt.figure()\n",
    "plt.plot(T_block3_list, np.array(prob_dict_block3['0001']), label='0001')\n",
    "plt.plot(T_block3_list, np.array(prob_dict_block3['0010']), label='0010')\n",
    "plt.plot(T_block3_list, np.array(prob_dict_block3['0100']), label='0100')\n",
    "plt.plot(T_block3_list, np.array(prob_dict_block3['1000']), label='1000')\n",
    "plt.legend()\n",
    "plt.show()\n"
   ]
  },
  {
   "cell_type": "code",
   "execution_count": 12,
   "metadata": {},
   "outputs": [
    {
     "name": "stdout",
     "output_type": "stream",
     "text": [
      "Running block 2...\n"
     ]
    },
    {
     "data": {
      "application/vnd.jupyter.widget-view+json": {
       "model_id": "8bdc12a011c34066827671ab4bb32233",
       "version_major": 2,
       "version_minor": 0
      },
      "text/plain": [
       "  0%|          | 0/49 [00:00<?, ?it/s]"
      ]
     },
     "metadata": {},
     "output_type": "display_data"
    },
    {
     "data": {
      "image/png": "[encoded data removed]",
      "text/plain": [
       "<Figure size 640x480 with 1 Axes>"
      ]
     },
     "metadata": {},
     "output_type": "display_data"
    }
   ],
   "source": [
    "# Block 2\n",
    "\n",
    "initial_state = states_block1[-1]\n",
    "\n",
    "num_steps_block2 = 50\n",
    "T_block2_list = np.linspace(0, 1, num_steps_block2)\n",
    "delta_t_block2 = T_block2_list[1] - T_block2_list[0]\n",
    "\n",
    "# Store states after every time step\n",
    "\n",
    "states_block2 = []\n",
    "states_block2.append(states_block1[-1])\n",
    "\n",
    "\n",
    "print('Running block 2...')\n",
    "for i in tqdm(range(num_steps_block2-1)):\n",
    "    problem = TimeEvolutionProblem(H_spinsplit(E_spin) + H_chargesplit(E_charge_drive) + H_LZSI(eps, w_spin, 0), initial_state=states_block2[-1], time=delta_t_block2)\n",
    "    trotter = TrotterQRTE(num_timesteps=1)\n",
    "    result = trotter.evolve(problem)    \n",
    "    states_block2.append(Statevector(result.evolved_state))\n",
    "\n",
    "\n",
    "prob_dict_block2 = {'0000': [], '0001': [], '0010': [], '0011': [], \n",
    "                    '0100': [], '0101': [], '0110': [], '0111': [], \n",
    "                    '1000': [], '1001': [], '1010': [], '1011': [], \n",
    "                    '1100': [], '1101': [], '1110': [], '1111': []}\n",
    "\n",
    "for states in states_block2:\n",
    "    for key in states.probabilities_dict().keys():\n",
    "        if states.probabilities_dict()[key] < 1e-15:\n",
    "            prob_dict_block2[key].append(0)\n",
    "        else:\n",
    "            prob_dict_block2[key].append(states.probabilities_dict()[key])\n",
    "    for key in prob_dict_block2.keys():\n",
    "        if key not in states.probabilities_dict().keys():\n",
    "            prob_dict_block2[key].append(0)\n",
    "\n",
    "\n",
    "# Plot the probabilities of the states in the computational basis vs time\n",
    "plt.figure()\n",
    "plt.plot(T_block2_list, np.array(prob_dict_block2['0001']), label='0001')\n",
    "plt.plot(T_block2_list, np.array(prob_dict_block2['0010']), label='0010')\n",
    "plt.plot(T_block2_list, np.array(prob_dict_block2['0100']), label='0100')\n",
    "plt.plot(T_block2_list, np.array(prob_dict_block2['1000']), label='1000')\n",
    "plt.legend()\n",
    "plt.show()"
   ]
  },
  {
   "cell_type": "code",
   "execution_count": 13,
   "metadata": {},
   "outputs": [
    {
     "name": "stdout",
     "output_type": "stream",
     "text": [
      "Running block 3...\n"
     ]
    },
    {
     "data": {
      "application/vnd.jupyter.widget-view+json": {
       "model_id": "f9466ab8d76448979ceacf9d57b23867",
       "version_major": 2,
       "version_minor": 0
      },
      "text/plain": [
       "  0%|          | 0/49 [00:00<?, ?it/s]"
      ]
     },
     "metadata": {},
     "output_type": "display_data"
    },
    {
     "ename": "KeyError",
     "evalue": "'0000'",
     "output_type": "error",
     "traceback": [
      "\u001b[0;31m---------------------------------------------------------------------------\u001b[0m",
      "\u001b[0;31mKeyError\u001b[0m                                  Traceback (most recent call last)",
      "\u001b[1;32mUntitled-1.ipynb Cell 11\u001b[0m line \u001b[0;36m3\n\u001b[1;32m     <a href='vscode-notebook-cell:Untitled-1.ipynb?jupyter-notebook#X13sdW50aXRsZWQ%3D?line=29'>30</a>\u001b[0m \u001b[39mfor\u001b[39;00m key \u001b[39min\u001b[39;00m states\u001b[39m.\u001b[39mprobabilities_dict()\u001b[39m.\u001b[39mkeys():\n\u001b[1;32m     <a href='vscode-notebook-cell:Untitled-1.ipynb?jupyter-notebook#X13sdW50aXRsZWQ%3D?line=30'>31</a>\u001b[0m     \u001b[39mif\u001b[39;00m states\u001b[39m.\u001b[39mprobabilities_dict()[key] \u001b[39m<\u001b[39m \u001b[39m1e-15\u001b[39m:\n\u001b[0;32m---> <a href='vscode-notebook-cell:Untitled-1.ipynb?jupyter-notebook#X13sdW50aXRsZWQ%3D?line=31'>32</a>\u001b[0m         prob_dict_block3[key]\u001b[39m.\u001b[39mappend(\u001b[39m0\u001b[39m)\n\u001b[1;32m     <a href='vscode-notebook-cell:Untitled-1.ipynb?jupyter-notebook#X13sdW50aXRsZWQ%3D?line=32'>33</a>\u001b[0m     \u001b[39melse\u001b[39;00m:\n\u001b[1;32m     <a href='vscode-notebook-cell:Untitled-1.ipynb?jupyter-notebook#X13sdW50aXRsZWQ%3D?line=33'>34</a>\u001b[0m         prob_dict_block3[key]\u001b[39m.\u001b[39mappend(states\u001b[39m.\u001b[39mprobabilities_dict()[key])\n",
      "\u001b[0;31mKeyError\u001b[0m: '0000'"
     ]
    }
   ],
   "source": [
    "# Block 3\n",
    "\n",
    "initial_state = states_block2[-1]\n",
    "\n",
    "num_steps_block3 = 50\n",
    "T_block3_list = np.linspace(0, drivetime, num_steps_block3)\n",
    "delta_t_block3 = T_block3_list[1] - T_block3_list[0]\n",
    "\n",
    "# Prepare H_0\n",
    "H_0_list = []\n",
    "for t in T_block3_list:\n",
    "    H_0_list.append(H_spinsplit(E_spin) + H_chargesplit(E_charge_drive + (E_charge-E_charge_drive)*t/drivetime))\n",
    "\n",
    "# Store states after every time step\n",
    "\n",
    "states_block3 = []\n",
    "states_block3.append(states_block2[-1])\n",
    "\n",
    "print('Running block 3...')\n",
    "for i in tqdm(range(num_steps_block3-1)):\n",
    "    problem = TimeEvolutionProblem(H_0_list[i] + H_LZSI(eps, w_spin, 0), initial_state=states_block3[-1], time=delta_t_block3)\n",
    "    trotter = TrotterQRTE(num_timesteps=1)\n",
    "    result = trotter.evolve(problem)    \n",
    "    states_block3.append(Statevector(result.evolved_state))\n",
    "\n",
    "\n",
    "prob_dict_block3 = {'0001': [], '0010': [], '0100': [], '1000': []}\n",
    "\n",
    "for states in states_block3:\n",
    "    for key in states.probabilities_dict().keys():\n",
    "        if states.probabilities_dict()[key] < 1e-15:\n",
    "            prob_dict_block3[key].append(0)\n",
    "        else:\n",
    "            prob_dict_block3[key].append(states.probabilities_dict()[key])\n",
    "    for key in prob_dict_block3.keys():\n",
    "        if key not in states.probabilities_dict().keys():\n",
    "            prob_dict_block3[key].append(0)"
   ]
  }
 ],
 "metadata": {
  "kernelspec": {
   "display_name": "Python 3",
   "language": "python",
   "name": "python3"
  },
  "language_info": {
   "codemirror_mode": {
    "name": "ipython",
    "version": 3
   },
   "file_extension": ".py",
   "mimetype": "text/x-python",
   "name": "python",
   "nbconvert_exporter": "python",
   "pygments_lexer": "ipython3",
   "version": "3.11.5"
  }
 },
 "nbformat": 4,
 "nbformat_minor": 2
}
