{
 "cells": [
  {
   "cell_type": "code",
   "execution_count": 2,
   "metadata": {},
   "outputs": [],
   "source": [
    "from qiskit import QuantumCircuit, QuantumRegister\n",
    "from qiskit.quantum_info import Pauli\n",
    "from qiskit.circuit import Parameter\n",
    "from qiskit.quantum_info import Statevector, Operator\n",
    "from qiskit.visualization import array_to_latex\n",
    "from qiskit import Aer, execute\n",
    "from qiskit.quantum_info import SparsePauliOp\n",
    "from qiskit.circuit.library import PauliEvolutionGate\n",
    "from tqdm.notebook import tqdm\n",
    "from matplotlib import pyplot as plt\n",
    "\n",
    "from qiskit_nature.second_q.operators import FermionicOp\n",
    "from qiskit_nature.second_q.mappers import JordanWignerMapper\n",
    "from qiskit_nature.settings import QiskitNatureSettings\n",
    "\n",
    "from qiskit_algorithms import TrotterQRTE\n",
    "from qiskit_algorithms import TimeEvolutionProblem\n",
    "\n",
    "\n",
    "QiskitNatureSettings.use_pauli_sum_op = False\n",
    "\n",
    "\n",
    "\n",
    "\n",
    "\n",
    "import numpy as np"
   ]
  },
  {
   "cell_type": "code",
   "execution_count": 3,
   "metadata": {},
   "outputs": [],
   "source": [
    "# Setup\n",
    "\n",
    "M = 2  #Number of Localizations\n",
    "S = 2  #Number of Spins\n",
    "L = 2  #Number of Sites\n",
    "N = M*S*L #total number of operators (Two positions times two spin polarizations)\n",
    "\n",
    "zero = Operator(np.zeros((2**N,2**N)))\n"
   ]
  },
  {
   "cell_type": "code",
   "execution_count": 23,
   "metadata": {},
   "outputs": [
    {
     "data": {
      "text/latex": [
       "$$ |00010010\\rangle$$"
      ],
      "text/plain": [
       "<IPython.core.display.Latex object>"
      ]
     },
     "execution_count": 23,
     "metadata": {},
     "output_type": "execute_result"
    }
   ],
   "source": [
    "# Basis states\n",
    "\n",
    "TuTu = Statevector.from_int(17, 2**N)\n",
    "TuTd = Statevector.from_int(18, 2**N)\n",
    "TdTu = Statevector.from_int(33, 2**N)\n",
    "TdTd = Statevector.from_int(34, 2**N)\n",
    "\n",
    "TuBu = Statevector.from_int(20, 2**N)\n",
    "TuBd = Statevector.from_int(24, 2**N)\n",
    "TdBu = Statevector.from_int(36, 2**N)\n",
    "TdBd = Statevector.from_int(40, 2**N)\n",
    "\n",
    "BuTu = Statevector.from_int(65, 2**N)\n",
    "BuTd = Statevector.from_int(66, 2**N)\n",
    "BdTu = Statevector.from_int(127, 2**N)   \n",
    "BdTd = Statevector.from_int(128, 2**N)\n",
    "\n",
    "BuBu = Statevector.from_int(68, 2**N)\n",
    "BuBd = Statevector.from_int(72, 2**N)\n",
    "BdBu = Statevector.from_int(132, 2**N)\n",
    "BdBd = Statevector.from_int(136, 2**N)\n",
    "\n",
    "\n",
    "TuTd.draw('latex')\n"
   ]
  },
  {
   "cell_type": "code",
   "execution_count": 26,
   "metadata": {},
   "outputs": [],
   "source": [
    "# Define tunneling operators\n",
    "\n",
    "# tunnel_op_list = [\n",
    "#     ({\"+_0 -_5\": 1.0}, 8),\n",
    "#     ({\"+_0 -_6\": 1.0}, 8),\n",
    "#     ({\"+_0 -_7\": 1.0}, 8),\n",
    "#     ({\"+_1 -_4\": 1.0}, 8),\n",
    "#     ({\"+_1 -_6\": 1.0}, 8),\n",
    "#     ({\"+_1 -_7\": 1.0}, 8),\n",
    "#     ({\"+_2 -_4\": 1.0}, 8),\n",
    "#     ({\"+_2 -_5\": 1.0}, 8),\n",
    "#     ({\"+_2 -_7\": 1.0}, 8),\n",
    "#     ({\"+_3 -_4\": 1.0}, 8),\n",
    "#     ({\"+_3 -_5\": 1.0}, 8),\n",
    "#     ({\"+_3 -_6\": 1.0}, 8),\n",
    "#     ({\"+_4 -_1\": 1.0}, 8),\n",
    "#     ({\"+_4 -_2\": 1.0}, 8),\n",
    "#     ({\"+_4 -_3\": 1.0}, 8),\n",
    "#     ({\"+_5 -_0\": 1.0}, 8),\n",
    "#     ({\"+_5 -_2\": 1.0}, 8),\n",
    "#     ({\"+_5 -_3\": 1.0}, 8),\n",
    "#     ({\"+_6 -_0\": 1.0}, 8),\n",
    "#     ({\"+_6 -_1\": 1.0}, 8),\n",
    "#     ({\"+_6 -_3\": 1.0}, 8),\n",
    "#     ({\"+_7 -_0\": 1.0}, 8),\n",
    "#     ({\"+_7 -_1\": 1.0}, 8),\n",
    "#     ({\"+_7 -_2\": 1.0}, 8),\n",
    "# ]\n",
    "\n",
    "\n",
    "second_order_tunnel = [\n",
    "    ({\"+_0 -_4 +_4 -_0\": 1.0}, 8),\n",
    "    ({\"+_0 -_4 +_5 -_1\": 1.0}, 8),\n",
    "    ({\"+_0 -_4 +_6 -_2\": 1.0}, 8),\n",
    "    ({\"+_0 -_4 +_7 -_3\": 1.0}, 8),\n",
    "    ({\"+_1 -_5 +_4 -_0\": 1.0}, 8),\n",
    "    ({\"+_1 -_5 +_5 -_1\": 1.0}, 8),\n",
    "    ({\"+_1 -_5 +_6 -_2\": 1.0}, 8),\n",
    "    ({\"+_1 -_5 +_7 -_3\": 1.0}, 8),\n",
    "    ({\"+_2 -_6 +_4 -_0\": 1.0}, 8),\n",
    "    ({\"+_2 -_6 +_5 -_1\": 1.0}, 8),\n",
    "    ({\"+_2 -_6 +_6 -_2\": 1.0}, 8),\n",
    "    ({\"+_2 -_6 +_7 -_3\": 1.0}, 8),\n",
    "    ({\"+_3 -_7 +_4 -_0\": 1.0}, 8),\n",
    "    ({\"+_3 -_7 +_5 -_1\": 1.0}, 8),\n",
    "    ({\"+_3 -_7 +_6 -_2\": 1.0}, 8),\n",
    "    ({\"+_3 -_7 +_7 -_3\": 1.0}, 8),\n",
    "    ({\"+_4 -_0 +_0 -_4\": 1.0}, 8),\n",
    "    ({\"+_4 -_0 +_1 -_5\": 1.0}, 8),\n",
    "    ({\"+_4 -_0 +_2 -_6\": 1.0}, 8),\n",
    "    ({\"+_4 -_0 +_3 -_7\": 1.0}, 8),\n",
    "    ({\"+_5 -_1 +_0 -_4\": 1.0}, 8),\n",
    "    ({\"+_5 -_1 +_1 -_5\": 1.0}, 8),\n",
    "    ({\"+_5 -_1 +_2 -_6\": 1.0}, 8),\n",
    "    ({\"+_5 -_1 +_3 -_7\": 1.0}, 8),\n",
    "    ({\"+_6 -_2 +_0 -_4\": 1.0}, 8),\n",
    "    ({\"+_6 -_2 +_1 -_5\": 1.0}, 8),\n",
    "    ({\"+_6 -_2 +_2 -_6\": 1.0}, 8),\n",
    "    ({\"+_6 -_2 +_3 -_7\": 1.0}, 8),\n",
    "    ({\"+_7 -_3 +_0 -_4\": 1.0}, 8),\n",
    "    ({\"+_7 -_3 +_1 -_5\": 1.0}, 8),\n",
    "    ({\"+_7 -_3 +_2 -_6\": 1.0}, 8),\n",
    "    ({\"+_7 -_3 +_3 -_7\": 1.0}, 8),\n",
    "]\n",
    "\n",
    "first_order_tunnel = [\n",
    "    ({\"+_0 -_4\": 1.0}, 8),\n",
    "    ({\"+_1 -_5\": 1.0}, 8),\n",
    "    ({\"+_2 -_6\": 1.0}, 8),\n",
    "    ({\"+_3 -_7\": 1.0}, 8),\n",
    "    ({\"+_4 -_0\": 1.0}, 8),\n",
    "    ({\"+_5 -_1\": 1.0}, 8),\n",
    "    ({\"+_6 -_2\": 1.0}, 8),\n",
    "    ({\"+_7 -_3\": 1.0}, 8)\n",
    "]\n",
    "\n"
   ]
  },
  {
   "cell_type": "code",
   "execution_count": 38,
   "metadata": {},
   "outputs": [
    {
     "data": {
      "text/plain": [
       "{'+_0 -_4': 1.0,\n",
       " '+_1 -_5': 1.0,\n",
       " '+_2 -_6': 1.0,\n",
       " '+_3 -_7': 1.0,\n",
       " '+_4 -_0': 1.0,\n",
       " '+_5 -_1': 1.0,\n",
       " '+_6 -_2': 1.0,\n",
       " '+_7 -_3': 1.0}"
      ]
     },
     "execution_count": 38,
     "metadata": {},
     "output_type": "execute_result"
    }
   ],
   "source": [
    "tunnel_hamiltonian_op = {}\n",
    "for i in range(0, len(first_order_tunnel)):\n",
    "    tunnel_hamiltonian_op.update(first_order_tunnel[i][0])\n",
    "\n",
    "tunnel_hamiltonian_op"
   ]
  },
  {
   "cell_type": "code",
   "execution_count": 40,
   "metadata": {},
   "outputs": [
    {
     "data": {
      "text/plain": [
       "SparsePauliOp(['IIIYZZZY', 'IIIXZZZX', 'IIYZZZYI', 'IIXZZZXI', 'IYZZZYII', 'IXZZZXII', 'YZZZYIII', 'XZZZXIII'],\n",
       "              coeffs=[0.5+0.j, 0.5+0.j, 0.5+0.j, 0.5+0.j, 0.5+0.j, 0.5+0.j, 0.5+0.j, 0.5+0.j])"
      ]
     },
     "execution_count": 40,
     "metadata": {},
     "output_type": "execute_result"
    }
   ],
   "source": [
    "tunnel_hamiltonian = JordanWignerMapper().map(FermionicOp(tunnel_hamiltonian_op))\n",
    "tunnel_hamiltonian"
   ]
  },
  {
   "cell_type": "code",
   "execution_count": 44,
   "metadata": {},
   "outputs": [
    {
     "data": {
      "application/vnd.jupyter.widget-view+json": {
       "model_id": "b9f857740b92420ba03378eff9f0acd4",
       "version_major": 2,
       "version_minor": 0
      },
      "text/plain": [
       "  0%|          | 0/9 [00:00<?, ?it/s]"
      ]
     },
     "metadata": {},
     "output_type": "display_data"
    },
    {
     "ename": "KeyboardInterrupt",
     "evalue": "",
     "output_type": "error",
     "traceback": [
      "\u001b[0;31m---------------------------------------------------------------------------\u001b[0m",
      "\u001b[0;31mKeyboardInterrupt\u001b[0m                         Traceback (most recent call last)",
      "\u001b[1;32m/home/otps3141/Documents/Dokumente/ETH QE/Semester 3/Quantech/Code/double_QD.ipynb Cell 7\u001b[0m line \u001b[0;36m1\n\u001b[1;32m     <a href='vscode-notebook-cell:/home/otps3141/Documents/Dokumente/ETH%20QE/Semester%203/Quantech/Code/double_QD.ipynb#X12sZmlsZQ%3D%3D?line=14'>15</a>\u001b[0m     trotter \u001b[39m=\u001b[39m TrotterQRTE()\n\u001b[1;32m     <a href='vscode-notebook-cell:/home/otps3141/Documents/Dokumente/ETH%20QE/Semester%203/Quantech/Code/double_QD.ipynb#X12sZmlsZQ%3D%3D?line=15'>16</a>\u001b[0m     result \u001b[39m=\u001b[39m trotter\u001b[39m.\u001b[39mevolve(problem)\n\u001b[0;32m---> <a href='vscode-notebook-cell:/home/otps3141/Documents/Dokumente/ETH%20QE/Semester%203/Quantech/Code/double_QD.ipynb#X12sZmlsZQ%3D%3D?line=16'>17</a>\u001b[0m     state_list\u001b[39m.\u001b[39mappend(Statevector(result\u001b[39m.\u001b[39;49mevolved_state))\n\u001b[1;32m     <a href='vscode-notebook-cell:/home/otps3141/Documents/Dokumente/ETH%20QE/Semester%203/Quantech/Code/double_QD.ipynb#X12sZmlsZQ%3D%3D?line=18'>19</a>\u001b[0m \u001b[39m# Gather state occupations as probabilities\u001b[39;00m\n\u001b[1;32m     <a href='vscode-notebook-cell:/home/otps3141/Documents/Dokumente/ETH%20QE/Semester%203/Quantech/Code/double_QD.ipynb#X12sZmlsZQ%3D%3D?line=19'>20</a>\u001b[0m prob_dict \u001b[39m=\u001b[39m {\u001b[39m\"\u001b[39m\u001b[39m00010001\u001b[39m\u001b[39m\"\u001b[39m: [], \u001b[39m\"\u001b[39m\u001b[39m00010010\u001b[39m\u001b[39m\"\u001b[39m: [], \u001b[39m\"\u001b[39m\u001b[39m00010100\u001b[39m\u001b[39m\"\u001b[39m: [], \u001b[39m\"\u001b[39m\u001b[39m00011000\u001b[39m\u001b[39m\"\u001b[39m: [], \u001b[39m\"\u001b[39m\u001b[39m00100001\u001b[39m\u001b[39m\"\u001b[39m: [], \u001b[39m\"\u001b[39m\u001b[39m00100010\u001b[39m\u001b[39m\"\u001b[39m: [], \u001b[39m\"\u001b[39m\u001b[39m00100100\u001b[39m\u001b[39m\"\u001b[39m: [], \u001b[39m\"\u001b[39m\u001b[39m00101000\u001b[39m\u001b[39m\"\u001b[39m: [], \n\u001b[1;32m     <a href='vscode-notebook-cell:/home/otps3141/Documents/Dokumente/ETH%20QE/Semester%203/Quantech/Code/double_QD.ipynb#X12sZmlsZQ%3D%3D?line=20'>21</a>\u001b[0m              \u001b[39m\"\u001b[39m\u001b[39m01000001\u001b[39m\u001b[39m\"\u001b[39m: [], \u001b[39m\"\u001b[39m\u001b[39m01000010\u001b[39m\u001b[39m\"\u001b[39m: [], \u001b[39m\"\u001b[39m\u001b[39m01000100\u001b[39m\u001b[39m\"\u001b[39m: [], \u001b[39m\"\u001b[39m\u001b[39m01001000\u001b[39m\u001b[39m\"\u001b[39m: [], \u001b[39m\"\u001b[39m\u001b[39m10000001\u001b[39m\u001b[39m\"\u001b[39m: [], \u001b[39m\"\u001b[39m\u001b[39m10000010\u001b[39m\u001b[39m\"\u001b[39m: [], \u001b[39m\"\u001b[39m\u001b[39m10000100\u001b[39m\u001b[39m\"\u001b[39m: [], \u001b[39m\"\u001b[39m\u001b[39m10001000\u001b[39m\u001b[39m\"\u001b[39m: []}\n",
      "File \u001b[0;32m~/.local/lib/python3.11/site-packages/qiskit/quantum_info/states/statevector.py:91\u001b[0m, in \u001b[0;36mStatevector.__init__\u001b[0;34m(self, data, dims)\u001b[0m\n\u001b[1;32m     89\u001b[0m     \u001b[39mself\u001b[39m\u001b[39m.\u001b[39m_data \u001b[39m=\u001b[39m np\u001b[39m.\u001b[39mravel(data\u001b[39m.\u001b[39mdata)\n\u001b[1;32m     90\u001b[0m \u001b[39melif\u001b[39;00m \u001b[39misinstance\u001b[39m(data, (QuantumCircuit, Instruction)):\n\u001b[0;32m---> 91\u001b[0m     \u001b[39mself\u001b[39m\u001b[39m.\u001b[39m_data \u001b[39m=\u001b[39m Statevector\u001b[39m.\u001b[39;49mfrom_instruction(data)\u001b[39m.\u001b[39mdata\n\u001b[1;32m     92\u001b[0m \u001b[39melse\u001b[39;00m:\n\u001b[1;32m     93\u001b[0m     \u001b[39mraise\u001b[39;00m QiskitError(\u001b[39m\"\u001b[39m\u001b[39mInvalid input data format for Statevector\u001b[39m\u001b[39m\"\u001b[39m)\n",
      "File \u001b[0;32m~/.local/lib/python3.11/site-packages/qiskit/quantum_info/states/statevector.py:768\u001b[0m, in \u001b[0;36mStatevector.from_instruction\u001b[0;34m(cls, instruction)\u001b[0m\n\u001b[1;32m    766\u001b[0m init[\u001b[39m0\u001b[39m] \u001b[39m=\u001b[39m \u001b[39m1.0\u001b[39m\n\u001b[1;32m    767\u001b[0m vec \u001b[39m=\u001b[39m Statevector(init, dims\u001b[39m=\u001b[39minstruction\u001b[39m.\u001b[39mnum_qubits \u001b[39m*\u001b[39m (\u001b[39m2\u001b[39m,))\n\u001b[0;32m--> 768\u001b[0m \u001b[39mreturn\u001b[39;00m Statevector\u001b[39m.\u001b[39;49m_evolve_instruction(vec, instruction)\n",
      "File \u001b[0;32m~/.local/lib/python3.11/site-packages/qiskit/quantum_info/states/statevector.py:960\u001b[0m, in \u001b[0;36mStatevector._evolve_instruction\u001b[0;34m(statevec, obj, qargs)\u001b[0m\n\u001b[1;32m    958\u001b[0m     \u001b[39melse\u001b[39;00m:\n\u001b[1;32m    959\u001b[0m         new_qargs \u001b[39m=\u001b[39m [qargs[qubits[tup]] \u001b[39mfor\u001b[39;00m tup \u001b[39min\u001b[39;00m instruction\u001b[39m.\u001b[39mqubits]\n\u001b[0;32m--> 960\u001b[0m     Statevector\u001b[39m.\u001b[39;49m_evolve_instruction(statevec, instruction\u001b[39m.\u001b[39;49moperation, qargs\u001b[39m=\u001b[39;49mnew_qargs)\n\u001b[1;32m    961\u001b[0m \u001b[39mreturn\u001b[39;00m statevec\n",
      "File \u001b[0;32m~/.local/lib/python3.11/site-packages/qiskit/quantum_info/states/statevector.py:960\u001b[0m, in \u001b[0;36mStatevector._evolve_instruction\u001b[0;34m(statevec, obj, qargs)\u001b[0m\n\u001b[1;32m    958\u001b[0m     \u001b[39melse\u001b[39;00m:\n\u001b[1;32m    959\u001b[0m         new_qargs \u001b[39m=\u001b[39m [qargs[qubits[tup]] \u001b[39mfor\u001b[39;00m tup \u001b[39min\u001b[39;00m instruction\u001b[39m.\u001b[39mqubits]\n\u001b[0;32m--> 960\u001b[0m     Statevector\u001b[39m.\u001b[39;49m_evolve_instruction(statevec, instruction\u001b[39m.\u001b[39;49moperation, qargs\u001b[39m=\u001b[39;49mnew_qargs)\n\u001b[1;32m    961\u001b[0m \u001b[39mreturn\u001b[39;00m statevec\n",
      "File \u001b[0;32m~/.local/lib/python3.11/site-packages/qiskit/quantum_info/states/statevector.py:938\u001b[0m, in \u001b[0;36mStatevector._evolve_instruction\u001b[0;34m(statevec, obj, qargs)\u001b[0m\n\u001b[1;32m    933\u001b[0m     \u001b[39mreturn\u001b[39;00m statevec\n\u001b[1;32m    935\u001b[0m \u001b[39m# If the instruction doesn't have a matrix defined we use its\u001b[39;00m\n\u001b[1;32m    936\u001b[0m \u001b[39m# circuit decomposition definition if it exists, otherwise we\u001b[39;00m\n\u001b[1;32m    937\u001b[0m \u001b[39m# cannot compose this gate and raise an error.\u001b[39;00m\n\u001b[0;32m--> 938\u001b[0m \u001b[39mif\u001b[39;00m obj\u001b[39m.\u001b[39;49mdefinition \u001b[39mis\u001b[39;00m \u001b[39mNone\u001b[39;00m:\n\u001b[1;32m    939\u001b[0m     \u001b[39mraise\u001b[39;00m QiskitError(\u001b[39mf\u001b[39m\u001b[39m\"\u001b[39m\u001b[39mCannot apply Instruction: \u001b[39m\u001b[39m{\u001b[39;00mobj\u001b[39m.\u001b[39mname\u001b[39m}\u001b[39;00m\u001b[39m\"\u001b[39m)\n\u001b[1;32m    940\u001b[0m \u001b[39mif\u001b[39;00m \u001b[39mnot\u001b[39;00m \u001b[39misinstance\u001b[39m(obj\u001b[39m.\u001b[39mdefinition, QuantumCircuit):\n",
      "File \u001b[0;32m~/.local/lib/python3.11/site-packages/qiskit/circuit/instruction.py:239\u001b[0m, in \u001b[0;36mInstruction.definition\u001b[0;34m(self)\u001b[0m\n\u001b[1;32m    237\u001b[0m \u001b[39m\"\"\"Return definition in terms of other basic gates.\"\"\"\u001b[39;00m\n\u001b[1;32m    238\u001b[0m \u001b[39mif\u001b[39;00m \u001b[39mself\u001b[39m\u001b[39m.\u001b[39m_definition \u001b[39mis\u001b[39;00m \u001b[39mNone\u001b[39;00m:\n\u001b[0;32m--> 239\u001b[0m     \u001b[39mself\u001b[39;49m\u001b[39m.\u001b[39;49m_define()\n\u001b[1;32m    240\u001b[0m \u001b[39mreturn\u001b[39;00m \u001b[39mself\u001b[39m\u001b[39m.\u001b[39m_definition\n",
      "File \u001b[0;32m~/.local/lib/python3.11/site-packages/qiskit/circuit/library/data_preparation/state_preparation.py:120\u001b[0m, in \u001b[0;36mStatePreparation._define\u001b[0;34m(self)\u001b[0m\n\u001b[1;32m    118\u001b[0m     \u001b[39mself\u001b[39m\u001b[39m.\u001b[39mdefinition \u001b[39m=\u001b[39m \u001b[39mself\u001b[39m\u001b[39m.\u001b[39m_define_from_int()\n\u001b[1;32m    119\u001b[0m \u001b[39melse\u001b[39;00m:\n\u001b[0;32m--> 120\u001b[0m     \u001b[39mself\u001b[39m\u001b[39m.\u001b[39mdefinition \u001b[39m=\u001b[39m \u001b[39mself\u001b[39;49m\u001b[39m.\u001b[39;49m_define_synthesis()\n",
      "File \u001b[0;32m~/.local/lib/python3.11/site-packages/qiskit/circuit/library/data_preparation/state_preparation.py:180\u001b[0m, in \u001b[0;36mStatePreparation._define_synthesis\u001b[0;34m(self)\u001b[0m\n\u001b[1;32m    170\u001b[0m \u001b[39m\"\"\"Calculate a subcircuit that implements this initialization\u001b[39;00m\n\u001b[1;32m    171\u001b[0m \n\u001b[1;32m    172\u001b[0m \u001b[39mImplements a recursive initialization algorithm, including optimizations,\u001b[39;00m\n\u001b[0;32m   (...)\u001b[0m\n\u001b[1;32m    177\u001b[0m \u001b[39mdouble cnots.\u001b[39;00m\n\u001b[1;32m    178\u001b[0m \u001b[39m\"\"\"\u001b[39;00m\n\u001b[1;32m    179\u001b[0m \u001b[39m# call to generate the circuit that takes the desired vector to zero\u001b[39;00m\n\u001b[0;32m--> 180\u001b[0m disentangling_circuit \u001b[39m=\u001b[39m \u001b[39mself\u001b[39;49m\u001b[39m.\u001b[39;49m_gates_to_uncompute()\n\u001b[1;32m    182\u001b[0m \u001b[39m# invert the circuit to create the desired vector from zero (assuming\u001b[39;00m\n\u001b[1;32m    183\u001b[0m \u001b[39m# the qubits are in the zero state)\u001b[39;00m\n\u001b[1;32m    184\u001b[0m \u001b[39mif\u001b[39;00m \u001b[39mself\u001b[39m\u001b[39m.\u001b[39m_inverse \u001b[39mis\u001b[39;00m \u001b[39mFalse\u001b[39;00m:\n",
      "File \u001b[0;32m~/.local/lib/python3.11/site-packages/qiskit/circuit/library/data_preparation/state_preparation.py:282\u001b[0m, in \u001b[0;36mStatePreparation._gates_to_uncompute\u001b[0;34m(self)\u001b[0m\n\u001b[1;32m    279\u001b[0m     add_last_cnot \u001b[39m=\u001b[39m \u001b[39mFalse\u001b[39;00m\n\u001b[1;32m    281\u001b[0m \u001b[39mif\u001b[39;00m np\u001b[39m.\u001b[39mlinalg\u001b[39m.\u001b[39mnorm(phis) \u001b[39m!=\u001b[39m \u001b[39m0\u001b[39m:\n\u001b[0;32m--> 282\u001b[0m     rz_mult \u001b[39m=\u001b[39m \u001b[39mself\u001b[39;49m\u001b[39m.\u001b[39;49m_multiplex(RZGate, phis, last_cnot\u001b[39m=\u001b[39;49madd_last_cnot)\n\u001b[1;32m    283\u001b[0m     circuit\u001b[39m.\u001b[39mappend(rz_mult\u001b[39m.\u001b[39mto_instruction(), q[i : \u001b[39mself\u001b[39m\u001b[39m.\u001b[39mnum_qubits])\n\u001b[1;32m    285\u001b[0m \u001b[39mif\u001b[39;00m np\u001b[39m.\u001b[39mlinalg\u001b[39m.\u001b[39mnorm(thetas) \u001b[39m!=\u001b[39m \u001b[39m0\u001b[39m:\n",
      "File \u001b[0;32m~/.local/lib/python3.11/site-packages/qiskit/circuit/library/data_preparation/state_preparation.py:404\u001b[0m, in \u001b[0;36mStatePreparation._multiplex\u001b[0;34m(self, target_gate, list_of_angles, last_cnot)\u001b[0m\n\u001b[1;32m    399\u001b[0m circuit\u001b[39m.\u001b[39mappend(CXGate(), [msb, lsb])\n\u001b[1;32m    401\u001b[0m \u001b[39m# implement extra efficiency from the paper of cancelling adjacent\u001b[39;00m\n\u001b[1;32m    402\u001b[0m \u001b[39m# CNOTs (by leaving out last CNOT and reversing (NOT inverting) the\u001b[39;00m\n\u001b[1;32m    403\u001b[0m \u001b[39m# second lower-level multiplex)\u001b[39;00m\n\u001b[0;32m--> 404\u001b[0m multiplex_2 \u001b[39m=\u001b[39m \u001b[39mself\u001b[39;49m\u001b[39m.\u001b[39;49m_multiplex(target_gate, list_of_angles[(list_len \u001b[39m/\u001b[39;49m\u001b[39m/\u001b[39;49m \u001b[39m2\u001b[39;49m) :], \u001b[39mFalse\u001b[39;49;00m)\n\u001b[1;32m    405\u001b[0m \u001b[39mif\u001b[39;00m list_len \u001b[39m>\u001b[39m \u001b[39m1\u001b[39m:\n\u001b[1;32m    406\u001b[0m     circuit\u001b[39m.\u001b[39mappend(multiplex_2\u001b[39m.\u001b[39mto_instruction()\u001b[39m.\u001b[39mreverse_ops(), q[\u001b[39m0\u001b[39m:\u001b[39m-\u001b[39m\u001b[39m1\u001b[39m])\n",
      "File \u001b[0;32m~/.local/lib/python3.11/site-packages/qiskit/circuit/library/data_preparation/state_preparation.py:404\u001b[0m, in \u001b[0;36mStatePreparation._multiplex\u001b[0;34m(self, target_gate, list_of_angles, last_cnot)\u001b[0m\n\u001b[1;32m    399\u001b[0m circuit\u001b[39m.\u001b[39mappend(CXGate(), [msb, lsb])\n\u001b[1;32m    401\u001b[0m \u001b[39m# implement extra efficiency from the paper of cancelling adjacent\u001b[39;00m\n\u001b[1;32m    402\u001b[0m \u001b[39m# CNOTs (by leaving out last CNOT and reversing (NOT inverting) the\u001b[39;00m\n\u001b[1;32m    403\u001b[0m \u001b[39m# second lower-level multiplex)\u001b[39;00m\n\u001b[0;32m--> 404\u001b[0m multiplex_2 \u001b[39m=\u001b[39m \u001b[39mself\u001b[39;49m\u001b[39m.\u001b[39;49m_multiplex(target_gate, list_of_angles[(list_len \u001b[39m/\u001b[39;49m\u001b[39m/\u001b[39;49m \u001b[39m2\u001b[39;49m) :], \u001b[39mFalse\u001b[39;49;00m)\n\u001b[1;32m    405\u001b[0m \u001b[39mif\u001b[39;00m list_len \u001b[39m>\u001b[39m \u001b[39m1\u001b[39m:\n\u001b[1;32m    406\u001b[0m     circuit\u001b[39m.\u001b[39mappend(multiplex_2\u001b[39m.\u001b[39mto_instruction()\u001b[39m.\u001b[39mreverse_ops(), q[\u001b[39m0\u001b[39m:\u001b[39m-\u001b[39m\u001b[39m1\u001b[39m])\n",
      "File \u001b[0;32m~/.local/lib/python3.11/site-packages/qiskit/circuit/library/data_preparation/state_preparation.py:395\u001b[0m, in \u001b[0;36mStatePreparation._multiplex\u001b[0;34m(self, target_gate, list_of_angles, last_cnot)\u001b[0m\n\u001b[1;32m    392\u001b[0m list_of_angles \u001b[39m=\u001b[39m angle_weight\u001b[39m.\u001b[39mdot(np\u001b[39m.\u001b[39marray(list_of_angles))\u001b[39m.\u001b[39mtolist()\n\u001b[1;32m    394\u001b[0m \u001b[39m# recursive step on half the angles fulfilling the above assumption\u001b[39;00m\n\u001b[0;32m--> 395\u001b[0m multiplex_1 \u001b[39m=\u001b[39m \u001b[39mself\u001b[39;49m\u001b[39m.\u001b[39;49m_multiplex(target_gate, list_of_angles[\u001b[39m0\u001b[39;49m : (list_len \u001b[39m/\u001b[39;49m\u001b[39m/\u001b[39;49m \u001b[39m2\u001b[39;49m)], \u001b[39mFalse\u001b[39;49;00m)\n\u001b[1;32m    396\u001b[0m circuit\u001b[39m.\u001b[39mappend(multiplex_1\u001b[39m.\u001b[39mto_instruction(), q[\u001b[39m0\u001b[39m:\u001b[39m-\u001b[39m\u001b[39m1\u001b[39m])\n\u001b[1;32m    398\u001b[0m \u001b[39m# attach CNOT as follows, thereby flipping the LSB qubit\u001b[39;00m\n",
      "File \u001b[0;32m~/.local/lib/python3.11/site-packages/qiskit/circuit/library/data_preparation/state_preparation.py:406\u001b[0m, in \u001b[0;36mStatePreparation._multiplex\u001b[0;34m(self, target_gate, list_of_angles, last_cnot)\u001b[0m\n\u001b[1;32m    404\u001b[0m multiplex_2 \u001b[39m=\u001b[39m \u001b[39mself\u001b[39m\u001b[39m.\u001b[39m_multiplex(target_gate, list_of_angles[(list_len \u001b[39m/\u001b[39m\u001b[39m/\u001b[39m \u001b[39m2\u001b[39m) :], \u001b[39mFalse\u001b[39;00m)\n\u001b[1;32m    405\u001b[0m \u001b[39mif\u001b[39;00m list_len \u001b[39m>\u001b[39m \u001b[39m1\u001b[39m:\n\u001b[0;32m--> 406\u001b[0m     circuit\u001b[39m.\u001b[39mappend(multiplex_2\u001b[39m.\u001b[39;49mto_instruction()\u001b[39m.\u001b[39;49mreverse_ops(), q[\u001b[39m0\u001b[39m:\u001b[39m-\u001b[39m\u001b[39m1\u001b[39m])\n\u001b[1;32m    407\u001b[0m \u001b[39melse\u001b[39;00m:\n\u001b[1;32m    408\u001b[0m     circuit\u001b[39m.\u001b[39mappend(multiplex_2\u001b[39m.\u001b[39mto_instruction(), q[\u001b[39m0\u001b[39m:\u001b[39m-\u001b[39m\u001b[39m1\u001b[39m])\n",
      "File \u001b[0;32m~/.local/lib/python3.11/site-packages/qiskit/circuit/instruction.py:345\u001b[0m, in \u001b[0;36mInstruction.reverse_ops\u001b[0;34m(self)\u001b[0m\n\u001b[1;32m    342\u001b[0m \u001b[39mif\u001b[39;00m \u001b[39mnot\u001b[39;00m \u001b[39mself\u001b[39m\u001b[39m.\u001b[39m_definition:\n\u001b[1;32m    343\u001b[0m     \u001b[39mreturn\u001b[39;00m \u001b[39mself\u001b[39m\u001b[39m.\u001b[39mcopy()\n\u001b[0;32m--> 345\u001b[0m reverse_inst \u001b[39m=\u001b[39m \u001b[39mself\u001b[39;49m\u001b[39m.\u001b[39;49mcopy(name\u001b[39m=\u001b[39;49m\u001b[39mself\u001b[39;49m\u001b[39m.\u001b[39;49mname \u001b[39m+\u001b[39;49m \u001b[39m\"\u001b[39;49m\u001b[39m_reverse\u001b[39;49m\u001b[39m\"\u001b[39;49m)\n\u001b[1;32m    346\u001b[0m reversed_definition \u001b[39m=\u001b[39m \u001b[39mself\u001b[39m\u001b[39m.\u001b[39m_definition\u001b[39m.\u001b[39mcopy_empty_like()\n\u001b[1;32m    347\u001b[0m \u001b[39mfor\u001b[39;00m inst \u001b[39min\u001b[39;00m \u001b[39mreversed\u001b[39m(\u001b[39mself\u001b[39m\u001b[39m.\u001b[39m_definition):\n",
      "File \u001b[0;32m~/.local/lib/python3.11/site-packages/qiskit/circuit/instruction.py:426\u001b[0m, in \u001b[0;36mInstruction.copy\u001b[0;34m(self, name)\u001b[0m\n\u001b[1;32m    415\u001b[0m \u001b[39mdef\u001b[39;00m \u001b[39mcopy\u001b[39m(\u001b[39mself\u001b[39m, name\u001b[39m=\u001b[39m\u001b[39mNone\u001b[39;00m):\n\u001b[1;32m    416\u001b[0m     \u001b[39m\"\"\"\u001b[39;00m\n\u001b[1;32m    417\u001b[0m \u001b[39m    Copy of the instruction.\u001b[39;00m\n\u001b[1;32m    418\u001b[0m \n\u001b[0;32m   (...)\u001b[0m\n\u001b[1;32m    424\u001b[0m \u001b[39m        was provided\u001b[39;00m\n\u001b[1;32m    425\u001b[0m \u001b[39m    \"\"\"\u001b[39;00m\n\u001b[0;32m--> 426\u001b[0m     cpy \u001b[39m=\u001b[39m \u001b[39mself\u001b[39;49m\u001b[39m.\u001b[39;49m__deepcopy__()\n\u001b[1;32m    428\u001b[0m     \u001b[39mif\u001b[39;00m name:\n\u001b[1;32m    429\u001b[0m         cpy\u001b[39m.\u001b[39mname \u001b[39m=\u001b[39m name\n",
      "File \u001b[0;32m~/.local/lib/python3.11/site-packages/qiskit/circuit/instruction.py:436\u001b[0m, in \u001b[0;36mInstruction.__deepcopy__\u001b[0;34m(self, _memo)\u001b[0m\n\u001b[1;32m    434\u001b[0m cpy\u001b[39m.\u001b[39m_params \u001b[39m=\u001b[39m copy\u001b[39m.\u001b[39mcopy(\u001b[39mself\u001b[39m\u001b[39m.\u001b[39m_params)\n\u001b[1;32m    435\u001b[0m \u001b[39mif\u001b[39;00m \u001b[39mself\u001b[39m\u001b[39m.\u001b[39m_definition:\n\u001b[0;32m--> 436\u001b[0m     cpy\u001b[39m.\u001b[39m_definition \u001b[39m=\u001b[39m copy\u001b[39m.\u001b[39;49mdeepcopy(\u001b[39mself\u001b[39;49m\u001b[39m.\u001b[39;49m_definition, _memo)\n\u001b[1;32m    437\u001b[0m \u001b[39mreturn\u001b[39;00m cpy\n",
      "File \u001b[0;32m/usr/lib64/python3.11/copy.py:172\u001b[0m, in \u001b[0;36mdeepcopy\u001b[0;34m(x, memo, _nil)\u001b[0m\n\u001b[1;32m    170\u001b[0m                 y \u001b[39m=\u001b[39m x\n\u001b[1;32m    171\u001b[0m             \u001b[39melse\u001b[39;00m:\n\u001b[0;32m--> 172\u001b[0m                 y \u001b[39m=\u001b[39m _reconstruct(x, memo, \u001b[39m*\u001b[39;49mrv)\n\u001b[1;32m    174\u001b[0m \u001b[39m# If is its own copy, don't memoize.\u001b[39;00m\n\u001b[1;32m    175\u001b[0m \u001b[39mif\u001b[39;00m y \u001b[39mis\u001b[39;00m \u001b[39mnot\u001b[39;00m x:\n",
      "File \u001b[0;32m/usr/lib64/python3.11/copy.py:271\u001b[0m, in \u001b[0;36m_reconstruct\u001b[0;34m(x, memo, func, args, state, listiter, dictiter, deepcopy)\u001b[0m\n\u001b[1;32m    269\u001b[0m \u001b[39mif\u001b[39;00m state \u001b[39mis\u001b[39;00m \u001b[39mnot\u001b[39;00m \u001b[39mNone\u001b[39;00m:\n\u001b[1;32m    270\u001b[0m     \u001b[39mif\u001b[39;00m deep:\n\u001b[0;32m--> 271\u001b[0m         state \u001b[39m=\u001b[39m deepcopy(state, memo)\n\u001b[1;32m    272\u001b[0m     \u001b[39mif\u001b[39;00m \u001b[39mhasattr\u001b[39m(y, \u001b[39m'\u001b[39m\u001b[39m__setstate__\u001b[39m\u001b[39m'\u001b[39m):\n\u001b[1;32m    273\u001b[0m         y\u001b[39m.\u001b[39m__setstate__(state)\n",
      "File \u001b[0;32m/usr/lib64/python3.11/copy.py:146\u001b[0m, in \u001b[0;36mdeepcopy\u001b[0;34m(x, memo, _nil)\u001b[0m\n\u001b[1;32m    144\u001b[0m copier \u001b[39m=\u001b[39m _deepcopy_dispatch\u001b[39m.\u001b[39mget(\u001b[39mcls\u001b[39m)\n\u001b[1;32m    145\u001b[0m \u001b[39mif\u001b[39;00m copier \u001b[39mis\u001b[39;00m \u001b[39mnot\u001b[39;00m \u001b[39mNone\u001b[39;00m:\n\u001b[0;32m--> 146\u001b[0m     y \u001b[39m=\u001b[39m copier(x, memo)\n\u001b[1;32m    147\u001b[0m \u001b[39melse\u001b[39;00m:\n\u001b[1;32m    148\u001b[0m     \u001b[39mif\u001b[39;00m \u001b[39missubclass\u001b[39m(\u001b[39mcls\u001b[39m, \u001b[39mtype\u001b[39m):\n",
      "File \u001b[0;32m/usr/lib64/python3.11/copy.py:231\u001b[0m, in \u001b[0;36m_deepcopy_dict\u001b[0;34m(x, memo, deepcopy)\u001b[0m\n\u001b[1;32m    229\u001b[0m memo[\u001b[39mid\u001b[39m(x)] \u001b[39m=\u001b[39m y\n\u001b[1;32m    230\u001b[0m \u001b[39mfor\u001b[39;00m key, value \u001b[39min\u001b[39;00m x\u001b[39m.\u001b[39mitems():\n\u001b[0;32m--> 231\u001b[0m     y[deepcopy(key, memo)] \u001b[39m=\u001b[39m deepcopy(value, memo)\n\u001b[1;32m    232\u001b[0m \u001b[39mreturn\u001b[39;00m y\n",
      "File \u001b[0;32m/usr/lib64/python3.11/copy.py:146\u001b[0m, in \u001b[0;36mdeepcopy\u001b[0;34m(x, memo, _nil)\u001b[0m\n\u001b[1;32m    144\u001b[0m copier \u001b[39m=\u001b[39m _deepcopy_dispatch\u001b[39m.\u001b[39mget(\u001b[39mcls\u001b[39m)\n\u001b[1;32m    145\u001b[0m \u001b[39mif\u001b[39;00m copier \u001b[39mis\u001b[39;00m \u001b[39mnot\u001b[39;00m \u001b[39mNone\u001b[39;00m:\n\u001b[0;32m--> 146\u001b[0m     y \u001b[39m=\u001b[39m copier(x, memo)\n\u001b[1;32m    147\u001b[0m \u001b[39melse\u001b[39;00m:\n\u001b[1;32m    148\u001b[0m     \u001b[39mif\u001b[39;00m \u001b[39missubclass\u001b[39m(\u001b[39mcls\u001b[39m, \u001b[39mtype\u001b[39m):\n",
      "File \u001b[0;32m/usr/lib64/python3.11/copy.py:206\u001b[0m, in \u001b[0;36m_deepcopy_list\u001b[0;34m(x, memo, deepcopy)\u001b[0m\n\u001b[1;32m    204\u001b[0m append \u001b[39m=\u001b[39m y\u001b[39m.\u001b[39mappend\n\u001b[1;32m    205\u001b[0m \u001b[39mfor\u001b[39;00m a \u001b[39min\u001b[39;00m x:\n\u001b[0;32m--> 206\u001b[0m     append(deepcopy(a, memo))\n\u001b[1;32m    207\u001b[0m \u001b[39mreturn\u001b[39;00m y\n",
      "File \u001b[0;32m/usr/lib64/python3.11/copy.py:172\u001b[0m, in \u001b[0;36mdeepcopy\u001b[0;34m(x, memo, _nil)\u001b[0m\n\u001b[1;32m    170\u001b[0m                 y \u001b[39m=\u001b[39m x\n\u001b[1;32m    171\u001b[0m             \u001b[39melse\u001b[39;00m:\n\u001b[0;32m--> 172\u001b[0m                 y \u001b[39m=\u001b[39m _reconstruct(x, memo, \u001b[39m*\u001b[39;49mrv)\n\u001b[1;32m    174\u001b[0m \u001b[39m# If is its own copy, don't memoize.\u001b[39;00m\n\u001b[1;32m    175\u001b[0m \u001b[39mif\u001b[39;00m y \u001b[39mis\u001b[39;00m \u001b[39mnot\u001b[39;00m x:\n",
      "File \u001b[0;32m/usr/lib64/python3.11/copy.py:271\u001b[0m, in \u001b[0;36m_reconstruct\u001b[0;34m(x, memo, func, args, state, listiter, dictiter, deepcopy)\u001b[0m\n\u001b[1;32m    269\u001b[0m \u001b[39mif\u001b[39;00m state \u001b[39mis\u001b[39;00m \u001b[39mnot\u001b[39;00m \u001b[39mNone\u001b[39;00m:\n\u001b[1;32m    270\u001b[0m     \u001b[39mif\u001b[39;00m deep:\n\u001b[0;32m--> 271\u001b[0m         state \u001b[39m=\u001b[39m deepcopy(state, memo)\n\u001b[1;32m    272\u001b[0m     \u001b[39mif\u001b[39;00m \u001b[39mhasattr\u001b[39m(y, \u001b[39m'\u001b[39m\u001b[39m__setstate__\u001b[39m\u001b[39m'\u001b[39m):\n\u001b[1;32m    273\u001b[0m         y\u001b[39m.\u001b[39m__setstate__(state)\n",
      "    \u001b[0;31m[... skipping similar frames: deepcopy at line 146 (1 times)]\u001b[0m\n",
      "File \u001b[0;32m/usr/lib64/python3.11/copy.py:211\u001b[0m, in \u001b[0;36m_deepcopy_tuple\u001b[0;34m(x, memo, deepcopy)\u001b[0m\n\u001b[1;32m    210\u001b[0m \u001b[39mdef\u001b[39;00m \u001b[39m_deepcopy_tuple\u001b[39m(x, memo, deepcopy\u001b[39m=\u001b[39mdeepcopy):\n\u001b[0;32m--> 211\u001b[0m     y \u001b[39m=\u001b[39m [deepcopy(a, memo) \u001b[39mfor\u001b[39;49;00m a \u001b[39min\u001b[39;49;00m x]\n\u001b[1;32m    212\u001b[0m     \u001b[39m# We're not going to put the tuple in the memo, but it's still important we\u001b[39;00m\n\u001b[1;32m    213\u001b[0m     \u001b[39m# check for it, in case the tuple contains recursive mutable structures.\u001b[39;00m\n\u001b[1;32m    214\u001b[0m     \u001b[39mtry\u001b[39;00m:\n",
      "File \u001b[0;32m/usr/lib64/python3.11/copy.py:211\u001b[0m, in \u001b[0;36m<listcomp>\u001b[0;34m(.0)\u001b[0m\n\u001b[1;32m    210\u001b[0m \u001b[39mdef\u001b[39;00m \u001b[39m_deepcopy_tuple\u001b[39m(x, memo, deepcopy\u001b[39m=\u001b[39mdeepcopy):\n\u001b[0;32m--> 211\u001b[0m     y \u001b[39m=\u001b[39m [deepcopy(a, memo) \u001b[39mfor\u001b[39;00m a \u001b[39min\u001b[39;00m x]\n\u001b[1;32m    212\u001b[0m     \u001b[39m# We're not going to put the tuple in the memo, but it's still important we\u001b[39;00m\n\u001b[1;32m    213\u001b[0m     \u001b[39m# check for it, in case the tuple contains recursive mutable structures.\u001b[39;00m\n\u001b[1;32m    214\u001b[0m     \u001b[39mtry\u001b[39;00m:\n",
      "    \u001b[0;31m[... skipping similar frames: deepcopy at line 146 (1 times)]\u001b[0m\n",
      "File \u001b[0;32m/usr/lib64/python3.11/copy.py:231\u001b[0m, in \u001b[0;36m_deepcopy_dict\u001b[0;34m(x, memo, deepcopy)\u001b[0m\n\u001b[1;32m    229\u001b[0m memo[\u001b[39mid\u001b[39m(x)] \u001b[39m=\u001b[39m y\n\u001b[1;32m    230\u001b[0m \u001b[39mfor\u001b[39;00m key, value \u001b[39min\u001b[39;00m x\u001b[39m.\u001b[39mitems():\n\u001b[0;32m--> 231\u001b[0m     y[deepcopy(key, memo)] \u001b[39m=\u001b[39m deepcopy(value, memo)\n\u001b[1;32m    232\u001b[0m \u001b[39mreturn\u001b[39;00m y\n",
      "File \u001b[0;32m/usr/lib64/python3.11/copy.py:153\u001b[0m, in \u001b[0;36mdeepcopy\u001b[0;34m(x, memo, _nil)\u001b[0m\n\u001b[1;32m    151\u001b[0m copier \u001b[39m=\u001b[39m \u001b[39mgetattr\u001b[39m(x, \u001b[39m\"\u001b[39m\u001b[39m__deepcopy__\u001b[39m\u001b[39m\"\u001b[39m, \u001b[39mNone\u001b[39;00m)\n\u001b[1;32m    152\u001b[0m \u001b[39mif\u001b[39;00m copier \u001b[39mis\u001b[39;00m \u001b[39mnot\u001b[39;00m \u001b[39mNone\u001b[39;00m:\n\u001b[0;32m--> 153\u001b[0m     y \u001b[39m=\u001b[39m copier(memo)\n\u001b[1;32m    154\u001b[0m \u001b[39melse\u001b[39;00m:\n\u001b[1;32m    155\u001b[0m     reductor \u001b[39m=\u001b[39m dispatch_table\u001b[39m.\u001b[39mget(\u001b[39mcls\u001b[39m)\n",
      "File \u001b[0;32m~/.local/lib/python3.11/site-packages/qiskit/circuit/instruction.py:436\u001b[0m, in \u001b[0;36mInstruction.__deepcopy__\u001b[0;34m(self, _memo)\u001b[0m\n\u001b[1;32m    434\u001b[0m cpy\u001b[39m.\u001b[39m_params \u001b[39m=\u001b[39m copy\u001b[39m.\u001b[39mcopy(\u001b[39mself\u001b[39m\u001b[39m.\u001b[39m_params)\n\u001b[1;32m    435\u001b[0m \u001b[39mif\u001b[39;00m \u001b[39mself\u001b[39m\u001b[39m.\u001b[39m_definition:\n\u001b[0;32m--> 436\u001b[0m     cpy\u001b[39m.\u001b[39m_definition \u001b[39m=\u001b[39m copy\u001b[39m.\u001b[39;49mdeepcopy(\u001b[39mself\u001b[39;49m\u001b[39m.\u001b[39;49m_definition, _memo)\n\u001b[1;32m    437\u001b[0m \u001b[39mreturn\u001b[39;00m cpy\n",
      "    \u001b[0;31m[... skipping similar frames: deepcopy at line 146 (2 times), _deepcopy_dict at line 231 (1 times), _reconstruct at line 271 (1 times), deepcopy at line 172 (1 times)]\u001b[0m\n",
      "File \u001b[0;32m/usr/lib64/python3.11/copy.py:206\u001b[0m, in \u001b[0;36m_deepcopy_list\u001b[0;34m(x, memo, deepcopy)\u001b[0m\n\u001b[1;32m    204\u001b[0m append \u001b[39m=\u001b[39m y\u001b[39m.\u001b[39mappend\n\u001b[1;32m    205\u001b[0m \u001b[39mfor\u001b[39;00m a \u001b[39min\u001b[39;00m x:\n\u001b[0;32m--> 206\u001b[0m     append(deepcopy(a, memo))\n\u001b[1;32m    207\u001b[0m \u001b[39mreturn\u001b[39;00m y\n",
      "    \u001b[0;31m[... skipping similar frames: _reconstruct at line 271 (1 times), deepcopy at line 172 (1 times), deepcopy at line 146 (1 times)]\u001b[0m\n",
      "File \u001b[0;32m/usr/lib64/python3.11/copy.py:211\u001b[0m, in \u001b[0;36m_deepcopy_tuple\u001b[0;34m(x, memo, deepcopy)\u001b[0m\n\u001b[1;32m    210\u001b[0m \u001b[39mdef\u001b[39;00m \u001b[39m_deepcopy_tuple\u001b[39m(x, memo, deepcopy\u001b[39m=\u001b[39mdeepcopy):\n\u001b[0;32m--> 211\u001b[0m     y \u001b[39m=\u001b[39m [deepcopy(a, memo) \u001b[39mfor\u001b[39;49;00m a \u001b[39min\u001b[39;49;00m x]\n\u001b[1;32m    212\u001b[0m     \u001b[39m# We're not going to put the tuple in the memo, but it's still important we\u001b[39;00m\n\u001b[1;32m    213\u001b[0m     \u001b[39m# check for it, in case the tuple contains recursive mutable structures.\u001b[39;00m\n\u001b[1;32m    214\u001b[0m     \u001b[39mtry\u001b[39;00m:\n",
      "File \u001b[0;32m/usr/lib64/python3.11/copy.py:211\u001b[0m, in \u001b[0;36m<listcomp>\u001b[0;34m(.0)\u001b[0m\n\u001b[1;32m    210\u001b[0m \u001b[39mdef\u001b[39;00m \u001b[39m_deepcopy_tuple\u001b[39m(x, memo, deepcopy\u001b[39m=\u001b[39mdeepcopy):\n\u001b[0;32m--> 211\u001b[0m     y \u001b[39m=\u001b[39m [deepcopy(a, memo) \u001b[39mfor\u001b[39;00m a \u001b[39min\u001b[39;00m x]\n\u001b[1;32m    212\u001b[0m     \u001b[39m# We're not going to put the tuple in the memo, but it's still important we\u001b[39;00m\n\u001b[1;32m    213\u001b[0m     \u001b[39m# check for it, in case the tuple contains recursive mutable structures.\u001b[39;00m\n\u001b[1;32m    214\u001b[0m     \u001b[39mtry\u001b[39;00m:\n",
      "    \u001b[0;31m[... skipping similar frames: _deepcopy_dict at line 231 (1 times), deepcopy at line 146 (1 times)]\u001b[0m\n",
      "File \u001b[0;32m/usr/lib64/python3.11/copy.py:153\u001b[0m, in \u001b[0;36mdeepcopy\u001b[0;34m(x, memo, _nil)\u001b[0m\n\u001b[1;32m    151\u001b[0m copier \u001b[39m=\u001b[39m \u001b[39mgetattr\u001b[39m(x, \u001b[39m\"\u001b[39m\u001b[39m__deepcopy__\u001b[39m\u001b[39m\"\u001b[39m, \u001b[39mNone\u001b[39;00m)\n\u001b[1;32m    152\u001b[0m \u001b[39mif\u001b[39;00m copier \u001b[39mis\u001b[39;00m \u001b[39mnot\u001b[39;00m \u001b[39mNone\u001b[39;00m:\n\u001b[0;32m--> 153\u001b[0m     y \u001b[39m=\u001b[39m copier(memo)\n\u001b[1;32m    154\u001b[0m \u001b[39melse\u001b[39;00m:\n\u001b[1;32m    155\u001b[0m     reductor \u001b[39m=\u001b[39m dispatch_table\u001b[39m.\u001b[39mget(\u001b[39mcls\u001b[39m)\n",
      "    \u001b[0;31m[... skipping similar frames: deepcopy at line 146 (4 times), _deepcopy_dict at line 231 (2 times), _reconstruct at line 271 (2 times), deepcopy at line 172 (2 times), <listcomp> at line 211 (1 times), Instruction.__deepcopy__ at line 436 (1 times), _deepcopy_list at line 206 (1 times), _deepcopy_tuple at line 211 (1 times), deepcopy at line 153 (1 times)]\u001b[0m\n",
      "File \u001b[0;32m~/.local/lib/python3.11/site-packages/qiskit/circuit/instruction.py:436\u001b[0m, in \u001b[0;36mInstruction.__deepcopy__\u001b[0;34m(self, _memo)\u001b[0m\n\u001b[1;32m    434\u001b[0m cpy\u001b[39m.\u001b[39m_params \u001b[39m=\u001b[39m copy\u001b[39m.\u001b[39mcopy(\u001b[39mself\u001b[39m\u001b[39m.\u001b[39m_params)\n\u001b[1;32m    435\u001b[0m \u001b[39mif\u001b[39;00m \u001b[39mself\u001b[39m\u001b[39m.\u001b[39m_definition:\n\u001b[0;32m--> 436\u001b[0m     cpy\u001b[39m.\u001b[39m_definition \u001b[39m=\u001b[39m copy\u001b[39m.\u001b[39;49mdeepcopy(\u001b[39mself\u001b[39;49m\u001b[39m.\u001b[39;49m_definition, _memo)\n\u001b[1;32m    437\u001b[0m \u001b[39mreturn\u001b[39;00m cpy\n",
      "    \u001b[0;31m[... skipping similar frames: deepcopy at line 146 (2 times), _deepcopy_dict at line 231 (1 times), _reconstruct at line 271 (1 times), deepcopy at line 172 (1 times)]\u001b[0m\n",
      "File \u001b[0;32m/usr/lib64/python3.11/copy.py:206\u001b[0m, in \u001b[0;36m_deepcopy_list\u001b[0;34m(x, memo, deepcopy)\u001b[0m\n\u001b[1;32m    204\u001b[0m append \u001b[39m=\u001b[39m y\u001b[39m.\u001b[39mappend\n\u001b[1;32m    205\u001b[0m \u001b[39mfor\u001b[39;00m a \u001b[39min\u001b[39;00m x:\n\u001b[0;32m--> 206\u001b[0m     append(deepcopy(a, memo))\n\u001b[1;32m    207\u001b[0m \u001b[39mreturn\u001b[39;00m y\n",
      "File \u001b[0;32m/usr/lib64/python3.11/copy.py:172\u001b[0m, in \u001b[0;36mdeepcopy\u001b[0;34m(x, memo, _nil)\u001b[0m\n\u001b[1;32m    170\u001b[0m                 y \u001b[39m=\u001b[39m x\n\u001b[1;32m    171\u001b[0m             \u001b[39melse\u001b[39;00m:\n\u001b[0;32m--> 172\u001b[0m                 y \u001b[39m=\u001b[39m _reconstruct(x, memo, \u001b[39m*\u001b[39;49mrv)\n\u001b[1;32m    174\u001b[0m \u001b[39m# If is its own copy, don't memoize.\u001b[39;00m\n\u001b[1;32m    175\u001b[0m \u001b[39mif\u001b[39;00m y \u001b[39mis\u001b[39;00m \u001b[39mnot\u001b[39;00m x:\n",
      "File \u001b[0;32m/usr/lib64/python3.11/copy.py:271\u001b[0m, in \u001b[0;36m_reconstruct\u001b[0;34m(x, memo, func, args, state, listiter, dictiter, deepcopy)\u001b[0m\n\u001b[1;32m    269\u001b[0m \u001b[39mif\u001b[39;00m state \u001b[39mis\u001b[39;00m \u001b[39mnot\u001b[39;00m \u001b[39mNone\u001b[39;00m:\n\u001b[1;32m    270\u001b[0m     \u001b[39mif\u001b[39;00m deep:\n\u001b[0;32m--> 271\u001b[0m         state \u001b[39m=\u001b[39m deepcopy(state, memo)\n\u001b[1;32m    272\u001b[0m     \u001b[39mif\u001b[39;00m \u001b[39mhasattr\u001b[39m(y, \u001b[39m'\u001b[39m\u001b[39m__setstate__\u001b[39m\u001b[39m'\u001b[39m):\n\u001b[1;32m    273\u001b[0m         y\u001b[39m.\u001b[39m__setstate__(state)\n",
      "    \u001b[0;31m[... skipping similar frames: deepcopy at line 146 (1 times)]\u001b[0m\n",
      "File \u001b[0;32m/usr/lib64/python3.11/copy.py:211\u001b[0m, in \u001b[0;36m_deepcopy_tuple\u001b[0;34m(x, memo, deepcopy)\u001b[0m\n\u001b[1;32m    210\u001b[0m \u001b[39mdef\u001b[39;00m \u001b[39m_deepcopy_tuple\u001b[39m(x, memo, deepcopy\u001b[39m=\u001b[39mdeepcopy):\n\u001b[0;32m--> 211\u001b[0m     y \u001b[39m=\u001b[39m [deepcopy(a, memo) \u001b[39mfor\u001b[39;49;00m a \u001b[39min\u001b[39;49;00m x]\n\u001b[1;32m    212\u001b[0m     \u001b[39m# We're not going to put the tuple in the memo, but it's still important we\u001b[39;00m\n\u001b[1;32m    213\u001b[0m     \u001b[39m# check for it, in case the tuple contains recursive mutable structures.\u001b[39;00m\n\u001b[1;32m    214\u001b[0m     \u001b[39mtry\u001b[39;00m:\n",
      "File \u001b[0;32m/usr/lib64/python3.11/copy.py:211\u001b[0m, in \u001b[0;36m<listcomp>\u001b[0;34m(.0)\u001b[0m\n\u001b[1;32m    210\u001b[0m \u001b[39mdef\u001b[39;00m \u001b[39m_deepcopy_tuple\u001b[39m(x, memo, deepcopy\u001b[39m=\u001b[39mdeepcopy):\n\u001b[0;32m--> 211\u001b[0m     y \u001b[39m=\u001b[39m [deepcopy(a, memo) \u001b[39mfor\u001b[39;00m a \u001b[39min\u001b[39;00m x]\n\u001b[1;32m    212\u001b[0m     \u001b[39m# We're not going to put the tuple in the memo, but it's still important we\u001b[39;00m\n\u001b[1;32m    213\u001b[0m     \u001b[39m# check for it, in case the tuple contains recursive mutable structures.\u001b[39;00m\n\u001b[1;32m    214\u001b[0m     \u001b[39mtry\u001b[39;00m:\n",
      "File \u001b[0;32m/usr/lib64/python3.11/copy.py:146\u001b[0m, in \u001b[0;36mdeepcopy\u001b[0;34m(x, memo, _nil)\u001b[0m\n\u001b[1;32m    144\u001b[0m copier \u001b[39m=\u001b[39m _deepcopy_dispatch\u001b[39m.\u001b[39mget(\u001b[39mcls\u001b[39m)\n\u001b[1;32m    145\u001b[0m \u001b[39mif\u001b[39;00m copier \u001b[39mis\u001b[39;00m \u001b[39mnot\u001b[39;00m \u001b[39mNone\u001b[39;00m:\n\u001b[0;32m--> 146\u001b[0m     y \u001b[39m=\u001b[39m copier(x, memo)\n\u001b[1;32m    147\u001b[0m \u001b[39melse\u001b[39;00m:\n\u001b[1;32m    148\u001b[0m     \u001b[39mif\u001b[39;00m \u001b[39missubclass\u001b[39m(\u001b[39mcls\u001b[39m, \u001b[39mtype\u001b[39m):\n",
      "File \u001b[0;32m/usr/lib64/python3.11/copy.py:231\u001b[0m, in \u001b[0;36m_deepcopy_dict\u001b[0;34m(x, memo, deepcopy)\u001b[0m\n\u001b[1;32m    229\u001b[0m memo[\u001b[39mid\u001b[39m(x)] \u001b[39m=\u001b[39m y\n\u001b[1;32m    230\u001b[0m \u001b[39mfor\u001b[39;00m key, value \u001b[39min\u001b[39;00m x\u001b[39m.\u001b[39mitems():\n\u001b[0;32m--> 231\u001b[0m     y[deepcopy(key, memo)] \u001b[39m=\u001b[39m deepcopy(value, memo)\n\u001b[1;32m    232\u001b[0m \u001b[39mreturn\u001b[39;00m y\n",
      "File \u001b[0;32m/usr/lib64/python3.11/copy.py:153\u001b[0m, in \u001b[0;36mdeepcopy\u001b[0;34m(x, memo, _nil)\u001b[0m\n\u001b[1;32m    151\u001b[0m copier \u001b[39m=\u001b[39m \u001b[39mgetattr\u001b[39m(x, \u001b[39m\"\u001b[39m\u001b[39m__deepcopy__\u001b[39m\u001b[39m\"\u001b[39m, \u001b[39mNone\u001b[39;00m)\n\u001b[1;32m    152\u001b[0m \u001b[39mif\u001b[39;00m copier \u001b[39mis\u001b[39;00m \u001b[39mnot\u001b[39;00m \u001b[39mNone\u001b[39;00m:\n\u001b[0;32m--> 153\u001b[0m     y \u001b[39m=\u001b[39m copier(memo)\n\u001b[1;32m    154\u001b[0m \u001b[39melse\u001b[39;00m:\n\u001b[1;32m    155\u001b[0m     reductor \u001b[39m=\u001b[39m dispatch_table\u001b[39m.\u001b[39mget(\u001b[39mcls\u001b[39m)\n",
      "File \u001b[0;32m~/.local/lib/python3.11/site-packages/qiskit/circuit/instruction.py:433\u001b[0m, in \u001b[0;36mInstruction.__deepcopy__\u001b[0;34m(self, _memo)\u001b[0m\n\u001b[1;32m    432\u001b[0m \u001b[39mdef\u001b[39;00m \u001b[39m__deepcopy__\u001b[39m(\u001b[39mself\u001b[39m, _memo\u001b[39m=\u001b[39m\u001b[39mNone\u001b[39;00m):\n\u001b[0;32m--> 433\u001b[0m     cpy \u001b[39m=\u001b[39m copy\u001b[39m.\u001b[39;49mcopy(\u001b[39mself\u001b[39;49m)\n\u001b[1;32m    434\u001b[0m     cpy\u001b[39m.\u001b[39m_params \u001b[39m=\u001b[39m copy\u001b[39m.\u001b[39mcopy(\u001b[39mself\u001b[39m\u001b[39m.\u001b[39m_params)\n\u001b[1;32m    435\u001b[0m     \u001b[39mif\u001b[39;00m \u001b[39mself\u001b[39m\u001b[39m.\u001b[39m_definition:\n",
      "File \u001b[0;32m/usr/lib64/python3.11/copy.py:102\u001b[0m, in \u001b[0;36mcopy\u001b[0;34m(x)\u001b[0m\n\u001b[1;32m    100\u001b[0m \u001b[39mif\u001b[39;00m \u001b[39misinstance\u001b[39m(rv, \u001b[39mstr\u001b[39m):\n\u001b[1;32m    101\u001b[0m     \u001b[39mreturn\u001b[39;00m x\n\u001b[0;32m--> 102\u001b[0m \u001b[39mreturn\u001b[39;00m _reconstruct(x, \u001b[39mNone\u001b[39;49;00m, \u001b[39m*\u001b[39;49mrv)\n",
      "File \u001b[0;32m/usr/lib64/python3.11/copy.py:259\u001b[0m, in \u001b[0;36m_reconstruct\u001b[0;34m(x, memo, func, args, state, listiter, dictiter, deepcopy)\u001b[0m\n\u001b[1;32m    255\u001b[0m     \u001b[39mexcept\u001b[39;00m \u001b[39mKeyError\u001b[39;00m:\n\u001b[1;32m    256\u001b[0m         \u001b[39m# aha, this is the first one :-)\u001b[39;00m\n\u001b[1;32m    257\u001b[0m         memo[\u001b[39mid\u001b[39m(memo)]\u001b[39m=\u001b[39m[x]\n\u001b[0;32m--> 259\u001b[0m \u001b[39mdef\u001b[39;00m \u001b[39m_reconstruct\u001b[39m(x, memo, func, args,\n\u001b[1;32m    260\u001b[0m                  state\u001b[39m=\u001b[39m\u001b[39mNone\u001b[39;00m, listiter\u001b[39m=\u001b[39m\u001b[39mNone\u001b[39;00m, dictiter\u001b[39m=\u001b[39m\u001b[39mNone\u001b[39;00m,\n\u001b[1;32m    261\u001b[0m                  \u001b[39m*\u001b[39m, deepcopy\u001b[39m=\u001b[39mdeepcopy):\n\u001b[1;32m    262\u001b[0m     deep \u001b[39m=\u001b[39m memo \u001b[39mis\u001b[39;00m \u001b[39mnot\u001b[39;00m \u001b[39mNone\u001b[39;00m\n\u001b[1;32m    263\u001b[0m     \u001b[39mif\u001b[39;00m deep \u001b[39mand\u001b[39;00m args:\n",
      "\u001b[0;31mKeyboardInterrupt\u001b[0m: "
     ]
    }
   ],
   "source": [
    "# Time evolution\n",
    "\n",
    "initial_state = TuTu\n",
    "\n",
    "num_steps = 10\n",
    "time_list = np.linspace(0, 1, num_steps)\n",
    "delta_t = time_list[1] - time_list[0]\n",
    "\n",
    "# Store states in each step\n",
    "state_list = []\n",
    "state_list.append(initial_state)\n",
    "\n",
    "for i in tqdm(range(num_steps-1)):\n",
    "    problem = TimeEvolutionProblem(tunnel_hamiltonian, initial_state=state_list[-1], time=delta_t)\n",
    "    trotter = TrotterQRTE()\n",
    "    result = trotter.evolve(problem)\n",
    "    state_list.append(Statevector(result.evolved_state))\n",
    "\n",
    "# Gather state occupations as probabilities\n",
    "prob_dict = {\"00010001\": [], \"00010010\": [], \"00010100\": [], \"00011000\": [], \"00100001\": [], \"00100010\": [], \"00100100\": [], \"00101000\": [], \n",
    "             \"01000001\": [], \"01000010\": [], \"01000100\": [], \"01001000\": [], \"10000001\": [], \"10000010\": [], \"10000100\": [], \"10001000\": []}\n",
    "\n",
    "\n"
   ]
  },
  {
   "cell_type": "code",
   "execution_count": 41,
   "metadata": {},
   "outputs": [
    {
     "data": {
      "text/latex": [
       "$$- |00100001\\rangle$$"
      ],
      "text/plain": [
       "<IPython.core.display.Latex object>"
      ]
     },
     "execution_count": 41,
     "metadata": {},
     "output_type": "execute_result"
    }
   ],
   "source": [
    "TdTu = TuTd.evolve(JordanWignerMapper().map(FermionicOp(second_order_tunnel[1][0], num_spin_orbitals=N)) + JordanWignerMapper().map(FermionicOp(second_order_tunnel[21][0], num_spin_orbitals=N)))\n",
    "\n",
    "TdTu.draw('latex')"
   ]
  }
 ],
 "metadata": {
  "kernelspec": {
   "display_name": "Python 3",
   "language": "python",
   "name": "python3"
  },
  "language_info": {
   "codemirror_mode": {
    "name": "ipython",
    "version": 3
   },
   "file_extension": ".py",
   "mimetype": "text/x-python",
   "name": "python",
   "nbconvert_exporter": "python",
   "pygments_lexer": "ipython3",
   "version": "3.11.5"
  }
 },
 "nbformat": 4,
 "nbformat_minor": 2
}
